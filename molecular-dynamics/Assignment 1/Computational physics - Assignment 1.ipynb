{
 "cells": [
  {
   "cell_type": "code",
   "execution_count": 132,
   "metadata": {
    "collapsed": false
   },
   "outputs": [],
   "source": [
    "# Clear all current variables\n",
    "import sys\n",
    "#sys.modules[__name__].__dict__.clear()\n",
    "\n",
    "import math\n",
    "import time\n",
    "import random\n",
    "import collections\n",
    "import numpy as np\n",
    "from numba import jit\n",
    "import matplotlib.pyplot as plt\n",
    "\n",
    "point = collections.namedtuple('Point', ['Distance', 'Combs', 'CombC'])\n",
    "point2 = collections.namedtuple('Point2', ['Time','Kinetic', 'Potential'])\n"
   ]
  },
  {
   "cell_type": "code",
   "execution_count": 133,
   "metadata": {
    "collapsed": false
   },
   "outputs": [],
   "source": [
    "# INIT\n",
    "N = 3                       # Integer value\n",
    "n = math.pow(N,3)*4         # Molecule count\n",
    "n = int(n)\n",
    "dens = 0.8                  # dens = N / V\n",
    "V = n / dens                # Volume density\n",
    "D = math.pow(V,1/3)         # Size of the box\n",
    "CombC    = 0                # Count for the combinations\n",
    "MinDist  = 1.8              # This corresponds with Force = 0.05\n",
    "\n",
    "Kin     = 0.0\n",
    "Pot     = 0.0\n",
    "Tot     = 0.0"
   ]
  },
  {
   "cell_type": "code",
   "execution_count": 189,
   "metadata": {
    "collapsed": false
   },
   "outputs": [
    {
     "ename": "SyntaxError",
     "evalue": "invalid syntax (<ipython-input-189-b300060534ba>, line 25)",
     "output_type": "error",
     "traceback": [
      "\u001b[1;36m  File \u001b[1;32m\"<ipython-input-189-b300060534ba>\"\u001b[1;36m, line \u001b[1;32m25\u001b[0m\n\u001b[1;33m    for c in range(0,n):\u001b[0m\n\u001b[1;37m                       ^\u001b[0m\n\u001b[1;31mSyntaxError\u001b[0m\u001b[1;31m:\u001b[0m invalid syntax\n"
     ]
    }
   ],
   "source": [
    "def InitPos():\n",
    "    pos = np.zeros((n,3))\n",
    "    c = 0\n",
    "    for i in range(0,N):\n",
    "        for j in range(0,N):\n",
    "            for k in range(0,N):\n",
    "                pos[c][0] = (i+0.5)*D/N\n",
    "                pos[c][1] = (j+0.5)*D/N\n",
    "                pos[c][2] = (k+0.5)*D/N\n",
    "                pos[c+1][0] = (i+1)*D/N\n",
    "                pos[c+1][1] = (j+0.5)*D/N\n",
    "                pos[c+1][2] = (k+0.5)*D/N\n",
    "                pos[c+2][0] = (i+0.5)*D/N\n",
    "                pos[c+2][1] = (j+1)*D/N\n",
    "                pos[c+2][2] = (k+0.5)*D/N\n",
    "                pos[c+3][0] = (i+0.5)*D/N\n",
    "                pos[c+3][1] = (j+0.5)*D/N\n",
    "                pos[c+3][2] = (k+1)*D/N\n",
    "                c = c + 4\n",
    "    return pos\n",
    "\n",
    "def InitVel():\n",
    "    vel = np.zeros((n,3))\n",
    "    velmean = np.zeros((3)\n",
    "    for c in range(0,n):\n",
    "        for d in range(0,3):\n",
    "            vel[c][d] = random.uniform(0,1)\n",
    "            velmean[d] += vel[c][d]\n",
    "    for c in range(0,n):\n",
    "        for d in range(0,3):\n",
    "            vel[c][d] -= velmean[d] / n\n",
    "    return vel"
   ]
  },
  {
   "cell_type": "code",
   "execution_count": 190,
   "metadata": {
    "collapsed": false,
    "scrolled": true
   },
   "outputs": [],
   "source": [
    "#@jit(nopython=True)\n",
    "def CalculateDistances(pos):\n",
    "    CC = 0\n",
    "    Dis = np.zeros((n**2))\n",
    "    Cs = np.zeros((n**2))\n",
    "    \n",
    "    for i in range(0,n):\n",
    "        for j in range(i+1,n):\n",
    "            dx = pos[i][0] - pos[j][0]\n",
    "            dy = pos[i][1] - pos[j][1]\n",
    "            dz = pos[i][2] - pos[j][2]\n",
    "            dx = dx - round(dx / (D)) * D\n",
    "            dy = dy - round(dy / (D)) * D  \n",
    "            dz = dz - round(dz / (D)) * D  \n",
    "            d = math.sqrt(dx**2+dy**2+dz**2)\n",
    "            Dis[i * n + j] = d\n",
    "            if (d == 0):\n",
    "                print(\"i = %g\\t j = %g\"%(i,j))\n",
    "            if (d < MinDist):\n",
    "                Cs[CC] = i*n+j\n",
    "                CC += 1\n",
    "    return point(Dis, Cs, CC)\n",
    "                \n",
    "@jit(nopython=True)\n",
    "def CalculateForces(pos, CombC, Combs) :\n",
    "    force = np.zeros((n,3))\n",
    "    #force = [[0 for x in range(3)] for x in range(n)]\n",
    "    for c in range(0,CombC):\n",
    "        i = math.floor(Combs[c] / n)\n",
    "        j = math.floor(Combs[c] % n)\n",
    "        \n",
    "        dx = pos[i][0] - pos[j][0]\n",
    "        dy = pos[i][1] - pos[j][1]\n",
    "        dz = pos[i][2] - pos[j][2]\n",
    "        dx = dx - round(dx / (D)) * D\n",
    "        dy = dy - round(dy / (D)) * D  \n",
    "        dz = dz - round(dz / (D)) * D  \n",
    "        d = math.sqrt(dx**2+dy**2+dz**2)\n",
    "        dt = d**(-7)\n",
    "        F = 12*(2*dt**2*d - dt)\n",
    "        Fx = F * dx / d\n",
    "        Fy = F * dy / d\n",
    "        Fz = F * dz / d\n",
    "        force[i][0] += Fx\n",
    "        force[i][1] += Fy\n",
    "        force[i][2] += Fz\n",
    "        force[j][0] -= Fx\n",
    "        force[j][1] -= Fy\n",
    "        force[j][2] -= Fz\n",
    "    return force\n",
    "\n",
    "#@jit(nopython=True)\n",
    "def CalulcatePotential(Distance):\n",
    "    Pot = 0.0\n",
    "    for i in range(0,n):\n",
    "        for j in range(i+1,n):\n",
    "            d = Distance[i*n+j]\n",
    "            if (d == 0):\n",
    "                print(\"i = %g\\t j = %g\"%(i,j))\n",
    "            dt = d**(-6)\n",
    "            Pot += 2*dt**2 - dt\n",
    "    return Pot\n",
    "\n",
    "pos = InitPos()\n",
    "vel = InitVel()\n",
    "    \n",
    "ret = CalculateDistances(pos)\n",
    "Combs = ret.Combs\n",
    "CombC = ret.CombC\n",
    "force = CalculateForces(pos, CombC, Combs)"
   ]
  },
  {
   "cell_type": "code",
   "execution_count": 197,
   "metadata": {
    "collapsed": false
   },
   "outputs": [
    {
     "name": "stdout",
     "output_type": "stream",
     "text": [
      "99%\t\t985\n",
      "Time = 0.024494\n"
     ]
    }
   ],
   "source": [
    "#@jit\n",
    "def Calculate():\n",
    "    KinArr = []\n",
    "    PotArr = []\n",
    "    Time = []\n",
    "\n",
    "    pos = InitPos()\n",
    "    vel = InitVel()\n",
    "    \n",
    "    ret = CalculateDistances(pos)\n",
    "    Combs = ret.Combs\n",
    "    CombC = ret.CombC\n",
    "    force = CalculateForces(pos, CombC, Combs)\n",
    "    veltemp = vel\n",
    "    t_last = 0\n",
    "    t = 0\n",
    "    while t <= t_end:\n",
    "        if (t >= t_last):\n",
    "            ret = CalculateDistances(pos)\n",
    "            Distance = ret.Distance\n",
    "            Combs = ret.Combs\n",
    "            CombC = ret.CombC\n",
    "            Pot = CalulcatePotential(Distance)\n",
    "            # Calculate the Kinetic energy\n",
    "            Kin = 0\n",
    "            for c in range(0,n):\n",
    "                Kin += math.sqrt(vel[c][0]**2+vel[c][1]**2+vel[c][2]**2)\n",
    "            KinArr.append(Kin)\n",
    "            PotArr.append(Pot)\n",
    "            Time.append(t)\n",
    "            #print(\"Time = %.3g\"%(t))\n",
    "            sys.stdout.write(\"\\r%2.3g%%\\t\\t%g\" % (math.floor(t/t_end * 1000)/10, CombC))\n",
    "            sys.stdout.flush()\n",
    "            t_last += 0.03\n",
    "        \n",
    "        vel += force*(dt/2)\n",
    "        pos += vel*dt\n",
    "        pos = pos%D\n",
    "        force = CalculateForces(pos, CombC, Combs)\n",
    "        vel += force*(dt/2)\n",
    "        \n",
    "        \n",
    "        #for j in range(0,n):\n",
    "         #   for i in range(0,3):\n",
    "                #vel[j][i] += force[j][i] * dt/2\n",
    "                #pos[j][i] += vel[j][i] * dt\n",
    "                #pos[j][i] = pos[j][i]%D\n",
    "        #force = CalculateForces(pos, CombC, Combs)\n",
    "        #for j in range(0,n):\n",
    "         #   for i in range(0,3):\n",
    "              #vel[j][i] += force[j][i] * dt/2\n",
    "        t += dt\n",
    "        #print(\"Time = %.6f\"%(time.time()-start_time))\n",
    "    return point2(Time, KinArr, PotArr)\n",
    "    \n",
    "dt = 1E-3\n",
    "ts = 1000\n",
    "t_end = dt * ts\n",
    "start_time = time.time()\n",
    "ret = Calculate()\n",
    "Time = ret.Time\n",
    "KinArr = ret.Kinetic\n",
    "PotArr = ret.Potential\n",
    "time_spend = time.time() - start_time\n",
    "time_it = time_spend/ts\n",
    "print(\"\\nTime = %.6f\"%(time_it))"
   ]
  },
  {
   "cell_type": "code",
   "execution_count": 193,
   "metadata": {
    "collapsed": false
   },
   "outputs": [
    {
     "name": "stdout",
     "output_type": "stream",
     "text": [
      "Starting\n",
      "\n",
      "Done\n"
     ]
    }
   ],
   "source": [
    "print(\"Starting\")\n",
    "#print(\"minDist = %.2g\"%(MinDist))\n",
    "\n",
    "t = 0\n",
    "dt = 1E-3\n",
    "t_end = dt * 1E2\n",
    "#Calculate()\n",
    "    \n",
    "print(\"\\nDone\")"
   ]
  },
  {
   "cell_type": "code",
   "execution_count": 192,
   "metadata": {
    "collapsed": false
   },
   "outputs": [],
   "source": [
    "plt.plot(Time, PotArr)\n",
    "plt.plot(Time, KinArr)\n",
    "#plt.plot(Time, PotArr + KinArr)\n",
    "plt.legend((\"Potential Energy\", \"Kinetic Energy\", \"Total Energy\"))\n",
    "plt.title(\"Energy in %g argo atoms\"%(n))\n",
    "plt.show()"
   ]
  }
 ],
 "metadata": {
  "kernelspec": {
   "display_name": "Python 3",
   "language": "python",
   "name": "python3"
  },
  "language_info": {
   "codemirror_mode": {
    "name": "ipython",
    "version": 3
   },
   "file_extension": ".py",
   "mimetype": "text/x-python",
   "name": "python",
   "nbconvert_exporter": "python",
   "pygments_lexer": "ipython3",
   "version": "3.5.1"
  }
 },
 "nbformat": 4,
 "nbformat_minor": 0
}
