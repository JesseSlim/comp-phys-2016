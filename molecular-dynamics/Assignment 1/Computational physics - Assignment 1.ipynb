{
 "cells": [
  {
   "cell_type": "code",
   "execution_count": 1,
   "metadata": {
    "collapsed": false
   },
   "outputs": [],
   "source": [
    "# Clear all current variables\n",
    "import sys\n",
    "#sys.modules[__name__].__dict__.clear()\n",
    "\n",
    "import math\n",
    "import time\n",
    "import random\n",
    "import collections\n",
    "import numpy as np\n",
    "from numba import jit\n",
    "import matplotlib.pyplot as plt\n"
   ]
  },
  {
   "cell_type": "code",
   "execution_count": 2,
   "metadata": {
    "collapsed": false
   },
   "outputs": [],
   "source": [
    "# INIT\n",
    "N = 3                       # Integer value\n",
    "n = math.pow(N,3)*4         # Molecule count\n",
    "n = int(n)\n",
    "dens = 0.8                  # dens = N / V\n",
    "V = n / dens                # Volume density\n",
    "D = math.pow(V,1/3)         # Size of the box\n",
    "CombC    = 0                # Count for the combinations\n",
    "MinDist  = D              # This corresponds with Force = 0.05\n",
    "\n",
    "Kin     = 0.0\n",
    "Pot     = 0.0\n",
    "Tot     = 0.0"
   ]
  },
  {
   "cell_type": "code",
   "execution_count": 3,
   "metadata": {
    "collapsed": false
   },
   "outputs": [],
   "source": [
    "def InitPos():\n",
    "    pos = np.zeros((n,3))\n",
    "    c = 0\n",
    "    for i in range(0,N):\n",
    "        for j in range(0,N):\n",
    "            for k in range(0,N):\n",
    "                pos[c,0] = (i+0.5)*D/N; pos[c,1] = (j+0.5)*D/N; pos[c,2] = (k+0.5)*D/N\n",
    "                pos[c+1,0] = (i+1)*D/N; pos[c+1,1] = (j+0.5)*D/N; pos[c+1,2] = (k+0.5)*D/N\n",
    "                pos[c+2,0] = (i+0.5)*D/N; pos[c+2,1] = (j+1)*D/N; pos[c+2,2] = (k+0.5)*D/N\n",
    "                pos[c+3,0] = (i+0.5)*D/N; pos[c+3,1] = (j+0.5)*D/N; pos[c+3,2] = (k+1)*D/N\n",
    "                c = c + 4\n",
    "    return pos\n",
    "\n",
    "def InitVel():\n",
    "    vel = np.zeros((n,3))\n",
    "    velmean = np.zeros((3))\n",
    "    for c in range(0,n):\n",
    "        for d in range(0,3):\n",
    "            vel[c][d] = random.uniform(0,1)\n",
    "            velmean[d] += vel[c][d]\n",
    "    for c in range(0,n):\n",
    "        for d in range(0,3):\n",
    "            vel[c][d] -= velmean[d] / n\n",
    "    return vel"
   ]
  },
  {
   "cell_type": "code",
   "execution_count": 4,
   "metadata": {
    "collapsed": false,
    "scrolled": true
   },
   "outputs": [
    {
     "name": "stdout",
     "output_type": "stream",
     "text": [
      "0.5093402862548828\n",
      "0.5283536911010742\n",
      "0.14609837532043457\n"
     ]
    }
   ],
   "source": [
    "@jit(nopython=True)\n",
    "def CalculateDistances(pos):\n",
    "    CC = 0\n",
    "    Dis = np.zeros((n**2))\n",
    "    Cs = np.zeros((n**2))\n",
    "    \n",
    "    for i in range(0,n):\n",
    "        for j in range(i+1,n):\n",
    "            dis = pos[i,:] - pos[j,:]\n",
    "            dis = dis - np.rint(dis / (D)) * D\n",
    "            d = math.sqrt(np.sum(np.power(dis,2)))\n",
    "            Dis[i*n+j] = d\n",
    "            #if (d == 0):\n",
    "             #   print(\"i = %g\\t j = %g\"%(i,j))\n",
    "            if (d < MinDist):\n",
    "                Cs[CC] = i*n+j\n",
    "                CC += 1\n",
    "    return Dis, Cs, CC\n",
    "                \n",
    "@jit(nopython=True)\n",
    "def CalculateForces(pos, CombC, Combs) :\n",
    "    force = np.zeros((n,3))\n",
    "    for c in range(0,CombC):\n",
    "        i = math.floor(Combs[c] / n)\n",
    "        j = math.floor(Combs[c] % n)\n",
    "        dis = pos[i,:] - pos[j,:]\n",
    "        dis = dis - np.rint(dis / D) * D\n",
    "        d = math.sqrt(np.sum(np.power(dis,2)))\n",
    "        #dt = d**(-7)\n",
    "        F = 12 * (2*d**(-13) - d **(-7))\n",
    "        #F = 12*(2*dt**2*d - dt)\n",
    "        Fs = F * dis /d\n",
    "        \n",
    "        force[i,:] += Fs\n",
    "        force[j,:] -= Fs\n",
    "        \n",
    "    return force\n",
    "\n",
    "@jit(nopython=True)\n",
    "def CalulcatePotential(Distance):\n",
    "    Pot = 0.0\n",
    "    for i in range(0,n):\n",
    "        for j in range(i+1,n):\n",
    "            d = Distance[i*n+j]\n",
    "            dt = d**(-6)\n",
    "            Pot += dt**2 - 2*dt\n",
    "    return Pot\n",
    "\n",
    "pos = InitPos()\n",
    "vel = InitVel()\n",
    "start_time = time.time()\n",
    "Distance, Combs, CombC = CalculateDistances(pos)\n",
    "print(time.time()-start_time)\n",
    "start_time = time.time()\n",
    "force = CalculateForces(pos, CombC, Combs)\n",
    "print(time.time()-start_time)\n",
    "start_time = time.time()\n",
    "pot = CalulcatePotential(Distance)\n",
    "print(time.time()-start_time)"
   ]
  },
  {
   "cell_type": "code",
   "execution_count": null,
   "metadata": {
    "collapsed": false
   },
   "outputs": [
    {
     "name": "stdout",
     "output_type": "stream",
     "text": [
      "99.9%\t\t5778\n",
      "Time = 0.008189\n"
     ]
    }
   ],
   "source": [
    "#@jit\n",
    "def Calculate():\n",
    "    KinArr = []\n",
    "    PotArr = []\n",
    "    Time = []\n",
    "\n",
    "    pos = InitPos()\n",
    "    vel = InitVel()\n",
    "    \n",
    "    Distance, Combs, CombC = CalculateDistances(pos)\n",
    "    force = CalculateForces(pos, CombC, Combs)\n",
    "    veltemp = vel\n",
    "    t_last = 0\n",
    "    t = 0\n",
    "    while t <= t_end:\n",
    "        if (t >= t_last):\n",
    "            Distance, Combs, CombC = CalculateDistances(pos)\n",
    "            Pot = CalulcatePotential(Distance)\n",
    "            # Calculate the Kinetic energy\n",
    "            Kin = 0\n",
    "            for c in range(0,n):\n",
    "                Kin += math.sqrt(vel[c][0]**2+vel[c][1]**2+vel[c][2]**2)\n",
    "            KinArr.append(Kin)\n",
    "            PotArr.append(Pot)\n",
    "            Time.append(t)\n",
    "            #print(\"Time = %.3g\"%(t))\n",
    "            sys.stdout.write(\"\\r%2.3g%%\\t\\t%g\" % (math.floor(t/t_end * 1000)/10, CombC))\n",
    "            sys.stdout.flush()\n",
    "            t_last += 0.005\n",
    "        \n",
    "        vel += force*(dt/2)\n",
    "        pos += vel*dt\n",
    "        pos = pos%D\n",
    "        force = CalculateForces(pos, CombC, Combs)\n",
    "        vel += force*(dt/2)\n",
    "        t += dt\n",
    "    return Time, KinArr, PotArr\n",
    "    \n",
    "dt = 4E-3\n",
    "ts = 5000\n",
    "t_end = dt * ts\n",
    "start_time = time.time()\n",
    "Time, KinArr, PotArr = Calculate()\n",
    "time_spend = time.time() - start_time\n",
    "time_it = time_spend/ts\n",
    "print(\"\\nTime = %.6f\"%(time_it))"
   ]
  },
  {
   "cell_type": "code",
   "execution_count": null,
   "metadata": {
    "collapsed": false
   },
   "outputs": [],
   "source": [
    "TotArr = []\n",
    "c = len(PotArr)\n",
    "for i in range(0, c):\n",
    "    TotArr.append(KinArr[i] + PotArr[i])\n",
    "plt.plot(Time, PotArr)\n",
    "plt.plot(Time, KinArr)\n",
    "plt.plot(Time, TotArr)\n",
    "#plt.plot(Time, PotArr + KinArr)\n",
    "plt.legend((\"Potential Energy\", \"Kinetic Energy\", \"Total Energy\"))\n",
    "plt.title(\"Energy in %g argo atoms\"%(n))\n",
    "plt.show()"
   ]
  }
 ],
 "metadata": {
  "kernelspec": {
   "display_name": "Python 3",
   "language": "python",
   "name": "python3"
  },
  "language_info": {
   "codemirror_mode": {
    "name": "ipython",
    "version": 3
   },
   "file_extension": ".py",
   "mimetype": "text/x-python",
   "name": "python",
   "nbconvert_exporter": "python",
   "pygments_lexer": "ipython3",
   "version": "3.5.1"
  }
 },
 "nbformat": 4,
 "nbformat_minor": 0
}
