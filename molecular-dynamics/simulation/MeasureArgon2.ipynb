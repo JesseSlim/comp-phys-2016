{
 "cells": [
  {
   "cell_type": "code",
   "execution_count": null,
   "metadata": {
    "collapsed": true
   },
   "outputs": [],
   "source": [
    "%matplotlib inline\n",
    "from ArgonSimulation import ArgonSimulation\n",
    "import numpy as np\n",
    "import matplotlib.pyplot as plt\n",
    "\n",
    "sim = ArgonSimulation()"
   ]
  },
  {
   "cell_type": "code",
   "execution_count": null,
   "metadata": {
    "collapsed": true
   },
   "outputs": [],
   "source": [
    "Ms = [6]\n",
    "Ts = np.linspace(0.0, 4.0, 17)\n",
    "rhos = np.concatenate((np.array([0.02, 0.05]), np.linspace(0.1, 2.0, 20)))\n",
    "tries = [0]"
   ]
  },
  {
   "cell_type": "code",
   "execution_count": null,
   "metadata": {
    "collapsed": true
   },
   "outputs": [],
   "source": [
    "sim.initialise_arrays(3.0, 0.03, 6)\n",
    "sim.initialise_simulation()\n",
    "sim.test_update_coordinates()\n",
    "\n",
    "%timeit sim.test_update_coordinates()"
   ]
  },
  {
   "cell_type": "code",
   "execution_count": null,
   "metadata": {
    "collapsed": true
   },
   "outputs": [],
   "source": [
    "for M in Ms:\n",
    "    for T in Ts:\n",
    "        for rho in rhos:\n",
    "            for tr in tries:\n",
    "                print(\"Starting simulation with parameters (try \" + str(tr) + \"): \")\n",
    "                print(\"M:   \" + str(M))\n",
    "                print(\"T:   \" + str(T))\n",
    "                print(\"rho: \" + str(rho))\n",
    "                filename = \"results/argon-M-%.2f-T-%.2f-rho-%.2f-try-%d.npz\" % (M,T,rho,tr)\n",
    "                sim.initialise_arrays(T, rho, M)\n",
    "                sim.do_simulation()\n",
    "                sim.save_results(filename)"
   ]
  }
 ],
 "metadata": {
  "kernelspec": {
   "display_name": "Python 3",
   "language": "python",
   "name": "python3"
  },
  "language_info": {
   "codemirror_mode": {
    "name": "ipython",
    "version": 3
   },
   "file_extension": ".py",
   "mimetype": "text/x-python",
   "name": "python",
   "nbconvert_exporter": "python",
   "pygments_lexer": "ipython3",
   "version": "3.5.1"
  }
 },
 "nbformat": 4,
 "nbformat_minor": 0
}
