{
 "cells": [
  {
   "cell_type": "code",
   "execution_count": 1,
   "metadata": {
    "collapsed": true
   },
   "outputs": [],
   "source": [
    "%matplotlib inline\n",
    "\n",
    "import numpy as np\n",
    "from numba import jit\n",
    "import matplotlib.pyplot as plt\n",
    "from mpl_toolkits.mplot3d import Axes3D\n",
    "import time\n",
    "import sys\n",
    "from IPython import display\n",
    "\n",
    "def print_fl(output):\n",
    "    print(output)\n",
    "    sys.stdout.flush()\n",
    "    \n",
    "T = 100.0\n",
    "h = 0.01\n",
    "numSteps = int(T/h)\n",
    "t = 0\n",
    "\n",
    "M = 3\n",
    "n = 4*M**3\n",
    "v = np.zeros((numSteps,n,3))\n",
    "r = np.zeros((numSteps,n,3))\n",
    "v_hat = np.zeros((numSteps,n,3))\n",
    "m = 1.0\n",
    "beta = 1.0\n",
    "sigma_v = np.sqrt(1/(beta * m))/100\n",
    "\n",
    "dist = np.zeros((numSteps,n,n))\n",
    "F = np.zeros((numSteps,n,3))\n",
    "\n",
    "L = 1.0\n",
    "\n",
    "def initialise():\n",
    "    global T, h, numSteps, t, M, n, v, r, v_hat, m, beta, sigma_v, F, L\n",
    "    i = 0\n",
    "    for mx in range(0, M):\n",
    "        for my in range(0, M):\n",
    "            for mz in range(0, M):\n",
    "                r[t,i,0] = L*mx/M; r[t,i,1] = L*my/M; r[t,i,2] = L*mz/M\n",
    "                i += 1\n",
    "                r[t,i,0] = L*(mx+0.5)/M; r[t,i,1] = L*(my+0.5)/M; r[t,i,2] = L*mz/M\n",
    "                i += 1\n",
    "                r[t,i,0] = L*(mx+0.5)/M; r[t,i,1] = L*my/M; r[t,i,2] = L*(mz+0.5)/M\n",
    "                i += 1\n",
    "                r[t,i,0] = L*mx/M; r[t,i,1] = L*(my+0.5)/M; r[t,i,2] = L*(mz+0.5)/M\n",
    "                i += 1\n",
    "    v[t,:,:] = np.random.normal(0.0, sigma_v, size=(n,3))\n",
    "    v[t,:,:] = v[t,:,:] - np.mean(v[t,:,:], axis=0)"
   ]
  },
  {
   "cell_type": "code",
   "execution_count": 2,
   "metadata": {
    "collapsed": true
   },
   "outputs": [],
   "source": [
    "initialise()"
   ]
  },
  {
   "cell_type": "code",
   "execution_count": 3,
   "metadata": {
    "collapsed": false
   },
   "outputs": [
    {
     "name": "stdout",
     "output_type": "stream",
     "text": [
      "1000 loops, best of 3: 884 µs per loop\n"
     ]
    }
   ],
   "source": [
    "def calculate_distances_npmat():\n",
    "    for i in range(0,n):\n",
    "        dr = (r[t,0:i,:] - r[t,i,:])\n",
    "        dist[t,i,0:i] = np.sqrt(np.sum(dr*dr, axis=1))\n",
    "    dist[t,:,:] += dist[t,:,:].T\n",
    "    \n",
    "calculate_distances_npmat()\n",
    "\n",
    "%timeit calculate_distances_npmat()"
   ]
  },
  {
   "cell_type": "code",
   "execution_count": 4,
   "metadata": {
    "collapsed": false
   },
   "outputs": [
    {
     "name": "stdout",
     "output_type": "stream",
     "text": [
      "10000 loops, best of 3: 157 µs per loop\n"
     ]
    }
   ],
   "source": [
    "@jit(nopython=True)\n",
    "def calculate_distances_npmat_jit_wargs(rIn, nIn):\n",
    "    distOut = np.zeros((nIn, nIn))\n",
    "    for i in range(0,nIn):\n",
    "        dr = (rIn[0:i,:] - rIn[i,:])\n",
    "        dr *= dr\n",
    "        dr[:,0] += dr[:,1] + dr[:,2]\n",
    "        distOut[i,0:i] = np.sqrt(dr[:,0])\n",
    "    distOut[:,:] += distOut[:,:].T\n",
    "    return distOut\n",
    "    \n",
    "calculate_distances_npmat_jit_wargs(r[t,:,:], n)\n",
    "\n",
    "%timeit calculate_distances_npmat_jit_wargs(r[t,:,:], n)"
   ]
  },
  {
   "cell_type": "code",
   "execution_count": 5,
   "metadata": {
    "collapsed": false
   },
   "outputs": [
    {
     "name": "stdout",
     "output_type": "stream",
     "text": [
      "1000 loops, best of 3: 235 µs per loop\n"
     ]
    }
   ],
   "source": [
    "@jit(nopython=True)\n",
    "def intpart(x):\n",
    "    return ((x // np.sign(x)) * np.sign(x)) if not x == 0.0 else 0.0\n",
    "\n",
    "@jit(nopython=True)\n",
    "def calculate_distances_loops_jit_wargs(rIn, nIn):\n",
    "    distOut = np.zeros((n, n))\n",
    "    for i in range(0,n):\n",
    "        for j in range(0,i):\n",
    "            dx = rIn[i,0] - rIn[j,0]\n",
    "            dx -= intpart(dx)\n",
    "            \n",
    "            dy = rIn[i,1] - rIn[j,1]            \n",
    "            dy -= intpart(dy)\n",
    "            \n",
    "            dz = rIn[i,2] - rIn[j,2]            \n",
    "            dz -= intpart(dz)\n",
    "            \n",
    "            distOut[i,j] = np.sqrt(dx*dx + dy*dy + dz*dz)\n",
    "    distOut[:,:] += distOut[:,:].T\n",
    "    return distOut\n",
    "    \n",
    "calculate_distances_loops_jit_wargs(r[t,:,:], n)\n",
    "\n",
    "%timeit calculate_distances_loops_jit_wargs(r[t,:,:], n)"
   ]
  },
  {
   "cell_type": "code",
   "execution_count": 21,
   "metadata": {
    "collapsed": false
   },
   "outputs": [
    {
     "name": "stdout",
     "output_type": "stream",
     "text": [
      "10000 loops, best of 3: 66.6 µs per loop\n"
     ]
    }
   ],
   "source": [
    "@jit(nopython=True)\n",
    "def calculate_distances_loops_jit_wargs(rIn, nIn):\n",
    "    distOut = np.zeros((n, n))\n",
    "    for i in range(0,n):\n",
    "        for j in range(0,i):\n",
    "            dx = rIn[i,0] - rIn[j,0]\n",
    "            dx -= np.around(dx)\n",
    "            \n",
    "            dy = rIn[i,1] - rIn[j,1]            \n",
    "            dy -= np.around(dy)\n",
    "            \n",
    "            dz = rIn[i,2] - rIn[j,2]            \n",
    "            dz -= np.around(dz)\n",
    "            \n",
    "            dr = np.sqrt(dx*dx + dy*dy + dz*dz)\n",
    "            if not dr == 0.0:\n",
    "                distOut[i,j] = dr\n",
    "            else:\n",
    "                distOut[i,j] = 1e-12\n",
    "    distOut[:,:] += distOut[:,:].T\n",
    "    return distOut\n",
    "    \n",
    "calculate_distances_loops_jit_wargs(r[t,:,:], n)\n",
    "\n",
    "%timeit calculate_distances_loops_jit_wargs(r[t,:,:], n)"
   ]
  },
  {
   "cell_type": "code",
   "execution_count": 6,
   "metadata": {
    "collapsed": false
   },
   "outputs": [
    {
     "name": "stdout",
     "output_type": "stream",
     "text": [
      "100 loops, best of 3: 2.52 ms per loop\n"
     ]
    }
   ],
   "source": [
    "@jit(nopython=True)\n",
    "def calculate_forces_jit(rIn, dIn, nIn):\n",
    "    Fij = np.zeros((nIn, nIn, 3))\n",
    "    for i in range(0,nIn):\n",
    "        for j in range(0,i):\n",
    "            dr = rIn[i,:] - rIn[j,:]\n",
    "            Fij[i,j,:] = dr * (48*np.power(dIn[i,j], -14) - 24*np.power(dIn[i,j], -8))\n",
    "    Fij[:,:,0] += -Fij[:,:,0].T\n",
    "    Fij[:,:,1] += -Fij[:,:,1].T\n",
    "    Fij[:,:,2] += -Fij[:,:,2].T\n",
    "    return Fij\n",
    "\n",
    "def calculate_forces():\n",
    "    global T, h, numSteps, t, M, n, v, r, v_hat, m, beta, sigma_v, F, L, dist\n",
    "    dmat = calculate_distances_loops_jit_wargs(r[t,:,:], n)\n",
    "    F[t,:,:] = np.sum(calculate_forces_jit(r[t,:,:], dmat, n), axis=1)\n",
    "    \n",
    "calculate_forces()\n",
    "\n",
    "testF1 = F[t,:,:]\n",
    "\n",
    "%timeit calculate_forces()"
   ]
  },
  {
   "cell_type": "code",
   "execution_count": 7,
   "metadata": {
    "collapsed": false
   },
   "outputs": [
    {
     "name": "stdout",
     "output_type": "stream",
     "text": [
      "100 loops, best of 3: 2.67 ms per loop\n"
     ]
    }
   ],
   "source": [
    "@jit(nopython=True)\n",
    "def calculate_forces_jit(rIn, dIn, nIn):\n",
    "    Fij = np.zeros((nIn, nIn, 3))\n",
    "    for i in range(0,nIn):\n",
    "        for j in range(0,i):\n",
    "            dr = rIn[i,:] - rIn[j,:]\n",
    "            Fij[i,j,:] = dr * (48*np.power(dIn[i,j], -14) - 24*np.power(dIn[i,j], -8))\n",
    "    Fij[:,:,0] += -Fij[:,:,0].T\n",
    "    Fij[:,:,1] += -Fij[:,:,1].T\n",
    "    Fij[:,:,2] += -Fij[:,:,2].T\n",
    "    \n",
    "    for i in range(0, nIn):\n",
    "        for j in range(1, nIn):\n",
    "            Fij[i,0,:] += Fij[i,j,:]\n",
    "    \n",
    "    return Fij[:,0,:]\n",
    "\n",
    "def calculate_forces():\n",
    "    global T, h, numSteps, t, M, n, v, r, v_hat, m, beta, sigma_v, F, L, dist\n",
    "    dmat = calculate_distances_loops_jit_wargs(r[t,:,:], n)\n",
    "    F[t,:,:] = calculate_forces_jit(r[t,:,:], dmat, n)\n",
    "    \n",
    "calculate_forces()\n",
    "\n",
    "testF2 = F[t,:,:]\n",
    "\n",
    "%timeit calculate_forces()"
   ]
  },
  {
   "cell_type": "code",
   "execution_count": 8,
   "metadata": {
    "collapsed": false
   },
   "outputs": [
    {
     "name": "stdout",
     "output_type": "stream",
     "text": [
      "1000 loops, best of 3: 885 µs per loop\n"
     ]
    }
   ],
   "source": [
    "@jit(nopython=True)\n",
    "def calculate_forces_jit(rIn, dIn, nIn):\n",
    "    Fij = np.zeros((nIn, nIn, 3))\n",
    "    for i in range(0,nIn):\n",
    "        for j in range(0,i):\n",
    "            dx = rIn[i,0] - rIn[j,0]\n",
    "            dy = rIn[i,1] - rIn[j,1]\n",
    "            dz = rIn[i,2] - rIn[j,2]\n",
    "            fLJ = 48.0*np.power(dIn[i,j], -14) - 24.0*np.power(dIn[i,j], -8)\n",
    "            Fij[i,j,0] = dx * fLJ\n",
    "            Fij[i,j,1] = dy * fLJ\n",
    "            Fij[i,j,2] = dz * fLJ\n",
    "    Fij[:,:,0] += -Fij[:,:,0].T\n",
    "    Fij[:,:,1] += -Fij[:,:,1].T\n",
    "    Fij[:,:,2] += -Fij[:,:,2].T\n",
    "    return Fij\n",
    "\n",
    "def calculate_forces():\n",
    "    global T, h, numSteps, t, M, n, v, r, v_hat, m, beta, sigma_v, F, L, dist\n",
    "    dmat = calculate_distances_loops_jit_wargs(r[t,:,:], n)\n",
    "    F[t,:,:] = np.sum(calculate_forces_jit(r[t,:,:], dmat, n), axis=1)\n",
    "    \n",
    "calculate_forces()\n",
    "\n",
    "testF3 = F[t,:,:]\n",
    "\n",
    "%timeit calculate_forces()"
   ]
  },
  {
   "cell_type": "code",
   "execution_count": 9,
   "metadata": {
    "collapsed": false
   },
   "outputs": [
    {
     "name": "stdout",
     "output_type": "stream",
     "text": [
      "1000 loops, best of 3: 620 µs per loop\n"
     ]
    }
   ],
   "source": [
    "@jit(nopython=True)\n",
    "def calculate_forces_jit(rIn, dIn, nIn):\n",
    "    Fij = np.zeros((nIn, nIn, 3))\n",
    "    for i in range(0,nIn):\n",
    "        for j in range(0,i):\n",
    "            dx = rIn[i,0] - rIn[j,0]\n",
    "            dy = rIn[i,1] - rIn[j,1]\n",
    "            dz = rIn[i,2] - rIn[j,2]\n",
    "            fLJ = (48.0/(dIn[i,j]**14) - 24.0/(dIn[i,j]**8))\n",
    "            Fij[i,j,0] = dx * fLJ\n",
    "            Fij[i,j,1] = dy * fLJ\n",
    "            Fij[i,j,2] = dz * fLJ\n",
    "    Fij[:,:,0] += -Fij[:,:,0].T\n",
    "    Fij[:,:,1] += -Fij[:,:,1].T\n",
    "    Fij[:,:,2] += -Fij[:,:,2].T\n",
    "    return Fij\n",
    "\n",
    "def calculate_forces():\n",
    "    global T, h, numSteps, t, M, n, v, r, v_hat, m, beta, sigma_v, F, L, dist\n",
    "    dmat = calculate_distances_loops_jit_wargs(r[t,:,:], n)\n",
    "    F[t,:,:] = np.sum(calculate_forces_jit(r[t,:,:], dmat, n), axis=1)\n",
    "    \n",
    "calculate_forces()\n",
    "\n",
    "testF3 = F[t,:,:]\n",
    "\n",
    "%timeit calculate_forces()"
   ]
  },
  {
   "cell_type": "code",
   "execution_count": 10,
   "metadata": {
    "collapsed": false
   },
   "outputs": [
    {
     "name": "stdout",
     "output_type": "stream",
     "text": [
      "1000 loops, best of 3: 626 µs per loop\n"
     ]
    }
   ],
   "source": [
    "@jit(nopython=True)\n",
    "def calculate_forces_jit(rIn, dIn, nIn):\n",
    "    Fij = np.zeros((nIn, nIn, 3))\n",
    "    for i in range(0,nIn):\n",
    "        for j in range(0,i):\n",
    "            dx = rIn[i,0] - rIn[j,0]\n",
    "            dy = rIn[i,1] - rIn[j,1]\n",
    "            dz = rIn[i,2] - rIn[j,2]\n",
    "            fLJ = (48.0/(dIn[i,j]*dIn[i,j]*dIn[i,j]*dIn[i,j]*dIn[i,j]*dIn[i,j]*dIn[i,j]*dIn[i,j]*dIn[i,j]*dIn[i,j]*dIn[i,j]*dIn[i,j]*dIn[i,j]*dIn[i,j]) - 24.0/(dIn[i,j]*dIn[i,j]*dIn[i,j]*dIn[i,j]*dIn[i,j]*dIn[i,j]*dIn[i,j]*dIn[i,j]))\n",
    "            Fij[i,j,0] = dx * fLJ\n",
    "            Fij[i,j,1] = dy * fLJ\n",
    "            Fij[i,j,2] = dz * fLJ\n",
    "    Fij[:,:,0] += -Fij[:,:,0].T\n",
    "    Fij[:,:,1] += -Fij[:,:,1].T\n",
    "    Fij[:,:,2] += -Fij[:,:,2].T\n",
    "    return Fij\n",
    "\n",
    "def calculate_forces():\n",
    "    global T, h, numSteps, t, M, n, v, r, v_hat, m, beta, sigma_v, F, L, dist\n",
    "    dmat = calculate_distances_loops_jit_wargs(r[t,:,:], n)\n",
    "    F[t,:,:] = np.sum(calculate_forces_jit(r[t,:,:], dmat, n), axis=1)\n",
    "    \n",
    "calculate_forces()\n",
    "\n",
    "testF3 = F[t,:,:]\n",
    "\n",
    "%timeit calculate_forces()"
   ]
  },
  {
   "cell_type": "code",
   "execution_count": null,
   "metadata": {
    "collapsed": true
   },
   "outputs": [],
   "source": []
  },
  {
   "cell_type": "code",
   "execution_count": 11,
   "metadata": {
    "collapsed": false
   },
   "outputs": [
    {
     "data": {
      "text/plain": [
       "4.0"
      ]
     },
     "execution_count": 11,
     "metadata": {},
     "output_type": "execute_result"
    }
   ],
   "source": [
    "-4.4 // -1"
   ]
  },
  {
   "cell_type": "code",
   "execution_count": 12,
   "metadata": {
    "collapsed": false
   },
   "outputs": [
    {
     "data": {
      "text/plain": [
       "-40.0"
      ]
     },
     "execution_count": 12,
     "metadata": {},
     "output_type": "execute_result"
    }
   ],
   "source": [
    "x = -40.5\n",
    "\n",
    "((x // np.sign(x)) * np.sign(x)) if not x == 0.0 else 0.0"
   ]
  },
  {
   "cell_type": "code",
   "execution_count": null,
   "metadata": {
    "collapsed": true
   },
   "outputs": [],
   "source": []
  }
 ],
 "metadata": {
  "kernelspec": {
   "display_name": "Python 3",
   "language": "python",
   "name": "python3"
  },
  "language_info": {
   "codemirror_mode": {
    "name": "ipython",
    "version": 3
   },
   "file_extension": ".py",
   "mimetype": "text/x-python",
   "name": "python",
   "nbconvert_exporter": "python",
   "pygments_lexer": "ipython3",
   "version": "3.5.1"
  }
 },
 "nbformat": 4,
 "nbformat_minor": 0
}
