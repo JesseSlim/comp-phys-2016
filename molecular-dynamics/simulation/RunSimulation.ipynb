{
 "cells": [
  {
   "cell_type": "code",
   "execution_count": null,
   "metadata": {
    "collapsed": false
   },
   "outputs": [],
   "source": [
    "import ArgonClass\n",
    "\n",
    "## simulation parameters\n",
    "simulationTime = 20.0 # total simulation time\n",
    "timeStep = 0.004 # time step\n",
    "numFrames = 50 # number of frames of the molecular configuration to be shown during simulation\n",
    "reportFreq = 0.01 # fraction of simulation progress that should be reported by a short text message\n",
    "\n",
    "rescalingPeriod = 10 # number of time steps between each velocity rescaling to reach the desired temperature\n",
    "rescalingTime = 1.0 # time until we should do the rescaling procedure to end up at the desired temperature\n",
    "equilibrationTime = 1.0 # time until we consider the system to be in equilibrium\n",
    "\n",
    "## system parameters\n",
    "M = 5 # number of unit cells to initialize atoms in\n",
    "\n",
    "desiredT = 3.0 # temperature the system should be equilibrated towards\n",
    "rho = 0.8 # density of the system\n",
    "\n",
    "Argon = ArgonClass.ArgonClass(simulationTime, timeStep, numFrames, reportFreq, rescalingPeriod, rescalingTime, equilibrationTime,\n",
    "                M, desiredT, rho)\n",
    "Argon.Init()\n",
    "\n",
    "Temp = 1;\n",
    "dTemp = 1;\n",
    "dens = 1;\n",
    "dDens = 0.2;\n",
    "while (Dens < 2):\n",
    "    while (Temp <= 100):\n",
    "        Argon.desiredT = Temp;\n",
    "        Argon.sigma_v = Temp**0.5\n",
    "        Argon.rho = Dens\n",
    "        Argon.Init()\n",
    "        Argon.do_simulation()\n",
    "        print(Temp)\n",
    "        print(Argon.getCV())\n",
    "        print(Dens)\n",
    "        Temp += dTemp\n",
    "    Dens += dDens"
   ]
  }
 ],
 "metadata": {
  "kernelspec": {
   "display_name": "Python 3",
   "language": "python",
   "name": "python3"
  },
  "language_info": {
   "codemirror_mode": {
    "name": "ipython",
    "version": 3
   },
   "file_extension": ".py",
   "mimetype": "text/x-python",
   "name": "python",
   "nbconvert_exporter": "python",
   "pygments_lexer": "ipython3",
   "version": "3.5.1"
  }
 },
 "nbformat": 4,
 "nbformat_minor": 0
}
