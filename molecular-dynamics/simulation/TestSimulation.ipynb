{
 "cells": [
  {
   "cell_type": "markdown",
   "metadata": {},
   "source": [
    "** HALLO\n",
    "\n",
    "Vette shit hier"
   ]
  },
  {
   "cell_type": "code",
   "execution_count": 1,
   "metadata": {
    "collapsed": false
   },
   "outputs": [],
   "source": [
    "%matplotlib inline\n",
    "\n",
    "import numpy as np\n",
    "from numba import jit\n",
    "import matplotlib.pyplot as plt\n",
    "from mpl_toolkits.mplot3d import Axes3D\n",
    "import time\n",
    "import sys\n",
    "from IPython import display\n",
    "\n",
    "def print_fl(output):\n",
    "    print(output)\n",
    "    sys.stdout.flush()"
   ]
  },
  {
   "cell_type": "markdown",
   "metadata": {},
   "source": [
    "Hallo"
   ]
  },
  {
   "cell_type": "code",
   "execution_count": 2,
   "metadata": {
    "collapsed": false
   },
   "outputs": [],
   "source": [
    "T = 50.0\n",
    "h = 0.004\n",
    "numSteps = int(T/h)\n",
    "t = 0\n",
    "\n",
    "M = 3\n",
    "n = 4*M**3\n",
    "v = np.zeros((numSteps,n,3))\n",
    "r = np.zeros((numSteps,n,3))\n",
    "v_hat = np.zeros((numSteps,n,3))\n",
    "m = 1.0\n",
    "beta = 1.0\n",
    "sigma_v = np.sqrt(1/(beta * m))\n",
    "rho = 0.8\n",
    "L = np.power(n/rho, 1/3)\n",
    "\n",
    "dist = np.zeros((numSteps,n,n))\n",
    "F = np.zeros((numSteps,n,3))\n",
    "\n"
   ]
  },
  {
   "cell_type": "code",
   "execution_count": 3,
   "metadata": {
    "collapsed": false
   },
   "outputs": [],
   "source": [
    "def initialise():\n",
    "    global T, h, numSteps, t, M, n, v, r, v_hat, m, beta, sigma_v, F, L, dist, rho\n",
    "    t = 0\n",
    "    i = 0\n",
    "    for mx in range(0, M):\n",
    "        for my in range(0, M):\n",
    "            for mz in range(0, M):\n",
    "                r[t,i,0] = mx/M; r[t,i,1] = my/M; r[t,i,2] = mz/M\n",
    "                i += 1\n",
    "                r[t,i,0] = (mx+0.5)/M; r[t,i,1] = (my+0.5)/M; r[t,i,2] = mz/M\n",
    "                i += 1\n",
    "                r[t,i,0] = (mx+0.5)/M; r[t,i,1] = my/M; r[t,i,2] = (mz+0.5)/M\n",
    "                i += 1\n",
    "                r[t,i,0] = mx/M; r[t,i,1] = (my+0.5)/M; r[t,i,2] = (mz+0.5)/M\n",
    "                i += 1\n",
    "    v[t,:,:] = np.random.normal(0.0, sigma_v, size=(n,3))\n",
    "    v[t,:,:] = v[t,:,:] - np.mean(v[t,:,:], axis=0)\n",
    "\n",
    "\n",
    "def initialise_simple():\n",
    "    global T, h, numSteps, t, M, n, v, r, v_hat, m, beta, sigma_v, F, L, dist, rho\n",
    "    \n",
    "    M = 3\n",
    "    n = 2\n",
    "    \n",
    "    v = np.zeros((numSteps,n,3))\n",
    "    r = np.zeros((numSteps,n,3))\n",
    "    v_hat = np.zeros((numSteps,n,3))\n",
    "    \n",
    "    L = 3\n",
    "\n",
    "    dist = np.zeros((numSteps,n,n))\n",
    "    F = np.zeros((numSteps,n,3))\n",
    "    \n",
    "    v[t,:,:] = 0.0\n",
    "    r[t,0,:] = [0.0, 0.5, 0.5]\n",
    "    r[t,1,:] = [1.0 - 1.001*np.power(2.0,1.0/6.0)/L, 0.5, 0.5]\n",
    "\n",
    "def update_coordinates():\n",
    "    global T, h, numSteps, t, M, n, v, r, v_hat, m, beta, sigma_v, F, L, dist, rho\n",
    "    v_hat[t,:,:] = v[t,:,:] + h * F[t,:,:]/2\n",
    "    r[t + 1,:,:] = (r[t,:,:] + h * v_hat[t,:,:]) % 1.0\n",
    "    \n",
    "    t += 1\n",
    "    calculate_forces()\n",
    "    v[t,:,:] = v_hat[t-1,:,:] + h*F[t,:,:] / 2"
   ]
  },
  {
   "cell_type": "code",
   "execution_count": 4,
   "metadata": {
    "collapsed": true
   },
   "outputs": [],
   "source": [
    "@jit(nopython=True)\n",
    "def calculate_distances_jit(rIn, nIn):\n",
    "    distOut = np.zeros((nIn, nIn))\n",
    "    epsilon = 1e-12\n",
    "    for i in range(0,nIn):\n",
    "        for j in range(0,i):\n",
    "            dx = rIn[i,0] - rIn[j,0]\n",
    "            dx -= np.around(dx)\n",
    "            \n",
    "            dy = rIn[i,1] - rIn[j,1]\n",
    "            dy -= np.around(dy)\n",
    "            \n",
    "            dz = rIn[i,2] - rIn[j,2]\n",
    "            dz -= np.around(dz)\n",
    "            \n",
    "            dr = np.sqrt(dx*dx + dy*dy + dz*dz)\n",
    "            if not dr == 0.0:\n",
    "                distOut[i,j] = distOut[j,i] = dr\n",
    "            else:\n",
    "                distOut[i,j] = distOut[j,i] = epsilon\n",
    "    return distOut\n",
    "\n",
    "def calculate_distances():\n",
    "    global T, h, numSteps, t, M, n, v, r, v_hat, m, beta, sigma_v, F, L, dist, rho\n",
    "    dist[t,:,:] = calculate_distances_jit(r[t,:,:], n)\n",
    "    \n",
    "@jit(nopython=True)\n",
    "def calculate_forces_jit(rIn, dIn, nIn):\n",
    "    Fij = np.zeros((nIn, nIn, 3))\n",
    "    for i in range(0,nIn):\n",
    "        for j in range(0,i):\n",
    "            dx = rIn[i,0] - rIn[j,0]\n",
    "            dx -= np.around(dx)\n",
    "            \n",
    "            dy = rIn[i,1] - rIn[j,1]\n",
    "            dy -= np.around(dy)\n",
    "            \n",
    "            dz = rIn[i,2] - rIn[j,2]\n",
    "            dz -= np.around(dz)\n",
    "            \n",
    "            fLJ = (48.0/(dIn[i,j]**14) - 24.0/(dIn[i,j]**8))\n",
    "            Fij[i,j,0] = dx * fLJ\n",
    "            Fij[i,j,1] = dy * fLJ\n",
    "            Fij[i,j,2] = dz * fLJ\n",
    "            \n",
    "            Fij[j,i,0] = -Fij[i,j,0]\n",
    "            Fij[j,i,1] = -Fij[i,j,1]\n",
    "            Fij[j,i,2] = -Fij[i,j,2]\n",
    "    return Fij\n",
    "\n",
    "def calculate_forces():\n",
    "    global T, h, numSteps, t, M, n, v, r, v_hat, m, beta, sigma_v, F, L, dist, rho\n",
    "    calculate_distances()\n",
    "    F[t,:,:] = np.sum(calculate_forces_jit(r[t,:,:], dist[t,:,:]*L, n), axis=1)"
   ]
  },
  {
   "cell_type": "code",
   "execution_count": 5,
   "metadata": {
    "collapsed": false
   },
   "outputs": [],
   "source": [
    "def do_simulation():\n",
    "    global T, h, numSteps, t, M, n, v, r, v_hat, m, beta, sigma_v, F, L, dist, rho    \n",
    "    start_visualisation()\n",
    "    \n",
    "    initialise_simple()\n",
    "    calculate_forces()\n",
    "    while(t < numSteps - 2):\n",
    "        if (t % 10 == 0 and 0):\n",
    "            visualize()   \n",
    "        update_coordinates()\n",
    "    end_visualisation()\n",
    "\n",
    "fig = None\n",
    "ax = None\n",
    "\n",
    "def start_visualisation():\n",
    "    global T, h, numSteps, t, M, n, v, r, v_hat, m, beta, sigma_v, F, L, dist, rho\n",
    "    global fig, ax\n",
    "    %matplotlib inline\n",
    "    fig = plt.figure()\n",
    "    ax = fig.add_subplot(111, projection='3d')\n",
    "    \n",
    "def end_visualisation():\n",
    "    display.clear_output()\n",
    "\n",
    "def visualize():\n",
    "    global T, h, numSteps, t, M, n, v, r, v_hat, m, beta, sigma_v, F, L, dist, rho\n",
    "    global fig, ax\n",
    "    ax.cla()\n",
    "    ax.scatter(r[t,:,0], r[t,:,1], r[t,:,2])\n",
    "    ax.set_xlim((0.0, 1.0))\n",
    "    ax.set_ylim((0.0, 1.0))\n",
    "    ax.set_zlim((0.0, 1.0))\n",
    "    display.clear_output(wait=True)\n",
    "    display.display(fig)\n",
    "    #time.sleep(0.05)"
   ]
  },
  {
   "cell_type": "code",
   "execution_count": 6,
   "metadata": {
    "collapsed": true
   },
   "outputs": [],
   "source": [
    "initialise()"
   ]
  },
  {
   "cell_type": "code",
   "execution_count": 7,
   "metadata": {
    "collapsed": false
   },
   "outputs": [
    {
     "name": "stdout",
     "output_type": "stream",
     "text": [
      "1000 loops, best of 3: 377 µs per loop\n"
     ]
    }
   ],
   "source": [
    "def test_update_coordinates():\n",
    "    global t\n",
    "    update_coordinates()\n",
    "    t -= 1\n",
    "    \n",
    "calculate_forces()\n",
    "test_update_coordinates()\n",
    "\n",
    "%timeit test_update_coordinates()"
   ]
  },
  {
   "cell_type": "code",
   "execution_count": 8,
   "metadata": {
    "collapsed": false
   },
   "outputs": [
    {
     "data": {
      "image/png": "[encoded data removed]",
      "text/plain": [
       "<matplotlib.figure.Figure at 0x109f6df98>"
      ]
     },
     "metadata": {},
     "output_type": "display_data"
    }
   ],
   "source": [
    "do_simulation()"
   ]
  },
  {
   "cell_type": "code",
   "execution_count": 9,
   "metadata": {
    "collapsed": false
   },
   "outputs": [],
   "source": [
    "def determine_kinetic_energy():\n",
    "    pass"
   ]
  },
  {
   "cell_type": "code",
   "execution_count": 10,
   "metadata": {
    "collapsed": false
   },
   "outputs": [
    {
     "data": {
      "text/plain": [
       "[<matplotlib.lines.Line2D at 0x111f49278>]"
      ]
     },
     "execution_count": 10,
     "metadata": {},
     "output_type": "execute_result"
    },
    {
     "data": {
      "image/png": "[encoded data removed]",
      "text/plain": [
       "<matplotlib.figure.Figure at 0x159d07860>"
      ]
     },
     "metadata": {},
     "output_type": "display_data"
    }
   ],
   "source": [
    "plt.plot(dist[:,0,1])"
   ]
  },
  {
   "cell_type": "code",
   "execution_count": 11,
   "metadata": {
    "collapsed": false
   },
   "outputs": [
    {
     "data": {
      "text/plain": [
       "[<matplotlib.lines.Line2D at 0x11208c5f8>]"
      ]
     },
     "execution_count": 11,
     "metadata": {},
     "output_type": "execute_result"
    },
    {
     "data": {
      "image/png": "[encoded data removed]",
      "text/plain": [
       "<matplotlib.figure.Figure at 0x111f71198>"
      ]
     },
     "metadata": {},
     "output_type": "display_data"
    }
   ],
   "source": [
    "plt.plot(np.linalg.norm(v[:,0,:], axis=1))"
   ]
  },
  {
   "cell_type": "code",
   "execution_count": 12,
   "metadata": {
    "collapsed": false
   },
   "outputs": [
    {
     "data": {
      "text/plain": [
       "[<matplotlib.lines.Line2D at 0x1121c8048>]"
      ]
     },
     "execution_count": 12,
     "metadata": {},
     "output_type": "execute_result"
    },
    {
     "data": {
      "image/png": "[encoded data removed]",
      "text/plain": [
       "<matplotlib.figure.Figure at 0x11209b1d0>"
      ]
     },
     "metadata": {},
     "output_type": "display_data"
    }
   ],
   "source": [
    "plt.plot(np.linalg.norm(v[:,1,:], axis=1))"
   ]
  },
  {
   "cell_type": "code",
   "execution_count": 15,
   "metadata": {
    "collapsed": false
   },
   "outputs": [
    {
     "data": {
      "text/plain": [
       "1.1224688216941299"
      ]
     },
     "execution_count": 15,
     "metadata": {},
     "output_type": "execute_result"
    }
   ],
   "source": [
    "np.mean(dist[:-1,0,1])*L"
   ]
  },
  {
   "cell_type": "code",
   "execution_count": 16,
   "metadata": {
    "collapsed": false
   },
   "outputs": [
    {
     "data": {
      "text/plain": [
       "1.122462048309373"
      ]
     },
     "execution_count": 16,
     "metadata": {},
     "output_type": "execute_result"
    }
   ],
   "source": [
    "np.power(2.0,1.0/6.0)"
   ]
  },
  {
   "cell_type": "code",
   "execution_count": 17,
   "metadata": {
    "collapsed": false
   },
   "outputs": [
    {
     "data": {
      "text/plain": [
       "3"
      ]
     },
     "execution_count": 17,
     "metadata": {},
     "output_type": "execute_result"
    }
   ],
   "source": [
    "L"
   ]
  },
  {
   "cell_type": "code",
   "execution_count": 18,
   "metadata": {
    "collapsed": false
   },
   "outputs": [
    {
     "data": {
      "text/plain": [
       "0.3745281701192274"
      ]
     },
     "execution_count": 18,
     "metadata": {},
     "output_type": "execute_result"
    }
   ],
   "source": []
  },
  {
   "cell_type": "code",
   "execution_count": null,
   "metadata": {
    "collapsed": true
   },
   "outputs": [],
   "source": []
  }
 ],
 "metadata": {
  "kernelspec": {
   "display_name": "Python 3",
   "language": "python",
   "name": "python3"
  },
  "language_info": {
   "codemirror_mode": {
    "name": "ipython",
    "version": 3
   },
   "file_extension": ".py",
   "mimetype": "text/x-python",
   "name": "python",
   "nbconvert_exporter": "python",
   "pygments_lexer": "ipython3",
   "version": "3.5.1"
  }
 },
 "nbformat": 4,
 "nbformat_minor": 0
}
