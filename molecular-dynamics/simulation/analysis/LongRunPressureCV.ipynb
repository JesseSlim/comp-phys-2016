{
 "cells": [
  {
   "cell_type": "code",
   "execution_count": 1,
   "metadata": {
    "collapsed": true
   },
   "outputs": [],
   "source": [
    "%matplotlib inline\n",
    "\n",
    "import numpy as np\n",
    "import matplotlib.pyplot as plt\n",
    "import scipy.optimize\n",
    "\n",
    "def load_simulation_data(M, T, rho, simJob):\n",
    "    return np.load(\"../results-longrun-nohist/argon-M-%d-T-%.2f-rho-%.2f-simjob-%d.npz\" % (M,T,rho,simJob))\n",
    "\n",
    "Ms = [6]\n",
    "Ts = np.linspace(0.25, 4.0, 16)\n",
    "rhos = np.concatenate((np.array([0.02, 0.05]), np.linspace(0.1, 2.0, 20)))\n",
    "simJobs = [0]\n",
    "\n",
    "def calc_cv(K_block, n):\n",
    "    delta_K_sq = np.var(K_block)\n",
    "    K_sq = np.mean(K_block)**2\n",
    "\n",
    "    C_v = 3 * K_sq / (2*K_sq - 3*n*delta_K_sq)\n",
    "    return C_v"
   ]
  },
  {
   "cell_type": "code",
   "execution_count": 2,
   "metadata": {
    "collapsed": true
   },
   "outputs": [],
   "source": [
    "testData = load_simulation_data(6, 0.5, 1.2, 0)"
   ]
  },
  {
   "cell_type": "code",
   "execution_count": 3,
   "metadata": {
    "collapsed": false
   },
   "outputs": [],
   "source": [
    "corTime = 5.0\n",
    "corSteps = int(corTime/testData[\"h\"])\n",
    "corBlocks = int(len(testData[\"temperature\"]) / corSteps)\n",
    "\n",
    "est_Ts = np.zeros((corBlocks))\n",
    "est_CVs = np.zeros((corBlocks))\n",
    "\n",
    "for i in range(0, corBlocks):\n",
    "    est_Ts[i] = np.mean(testData[\"temperature\"][i*corSteps:(i+1)*corSteps])\n",
    "    est_CVs[i] = calc_cv(testData[\"kinetic_energy\"][i*corSteps:(i+1)*corSteps], testData[\"n\"])"
   ]
  },
  {
   "cell_type": "code",
   "execution_count": 4,
   "metadata": {
    "collapsed": false
   },
   "outputs": [
    {
     "data": {
      "text/plain": [
       "array([ 0.49768599,  0.49751685,  0.49762157,  0.49744693,  0.4975602 ,\n",
       "        0.49749448,  0.49772382,  0.49741449,  0.49772066,  0.49740626,\n",
       "        0.49722901,  0.49753514])"
      ]
     },
     "execution_count": 4,
     "metadata": {},
     "output_type": "execute_result"
    }
   ],
   "source": [
    "est_Ts"
   ]
  },
  {
   "cell_type": "code",
   "execution_count": 5,
   "metadata": {
    "collapsed": false
   },
   "outputs": [
    {
     "data": {
      "text/plain": [
       "(array([ 1.,  2.,  3.,  3.,  3.]),\n",
       " array([ 0.49722901,  0.49732797,  0.49742693,  0.49752589,  0.49762486,\n",
       "         0.49772382]),\n",
       " <a list of 5 Patch objects>)"
      ]
     },
     "execution_count": 5,
     "metadata": {},
     "output_type": "execute_result"
    },
    {
     "data": {
      "image/png": "[encoded data removed]",
      "text/plain": [
       "<matplotlib.figure.Figure at 0x10440f0f0>"
      ]
     },
     "metadata": {},
     "output_type": "display_data"
    }
   ],
   "source": [
    "plt.hist(est_Ts, bins=5)"
   ]
  },
  {
   "cell_type": "code",
   "execution_count": 6,
   "metadata": {
    "collapsed": false
   },
   "outputs": [
    {
     "data": {
      "text/plain": [
       "(array([ 3.,  4.,  2.,  2.,  1.]),\n",
       " array([ 2.40896924,  2.61551137,  2.8220535 ,  3.02859563,  3.23513776,\n",
       "         3.44167989]),\n",
       " <a list of 5 Patch objects>)"
      ]
     },
     "execution_count": 6,
     "metadata": {},
     "output_type": "execute_result"
    },
    {
     "data": {
      "image/png": "[encoded data removed]",
      "text/plain": [
       "<matplotlib.figure.Figure at 0x10440f978>"
      ]
     },
     "metadata": {},
     "output_type": "display_data"
    }
   ],
   "source": [
    "plt.hist(est_CVs, bins=5)"
   ]
  },
  {
   "cell_type": "code",
   "execution_count": 7,
   "metadata": {
    "collapsed": false
   },
   "outputs": [
    {
     "data": {
      "text/plain": [
       "[<matplotlib.lines.Line2D at 0x10e3bf278>]"
      ]
     },
     "execution_count": 7,
     "metadata": {},
     "output_type": "execute_result"
    },
    {
     "data": {
      "image/png": "[encoded data removed]",
      "text/plain": [
       "<matplotlib.figure.Figure at 0x10e372080>"
      ]
     },
     "metadata": {},
     "output_type": "display_data"
    }
   ],
   "source": [
    "plt.plot(testData[\"kinetic_energy\"])"
   ]
  },
  {
   "cell_type": "code",
   "execution_count": 8,
   "metadata": {
    "collapsed": false
   },
   "outputs": [
    {
     "data": {
      "text/plain": [
       "array([ 2.81573656,  2.80239282,  2.55150157,  3.16802986,  2.60787577,\n",
       "        2.83609058,  2.80063258,  2.79058487,  3.44167989,  3.19138476,\n",
       "        2.40896924,  2.86476264])"
      ]
     },
     "execution_count": 8,
     "metadata": {},
     "output_type": "execute_result"
    }
   ],
   "source": [
    "est_CVs"
   ]
  },
  {
   "cell_type": "code",
   "execution_count": 9,
   "metadata": {
    "collapsed": false
   },
   "outputs": [
    {
     "data": {
      "text/plain": [
       "array(2.831378645316229)"
      ]
     },
     "execution_count": 9,
     "metadata": {},
     "output_type": "execute_result"
    }
   ],
   "source": [
    "testData[\"cv\"]"
   ]
  },
  {
   "cell_type": "code",
   "execution_count": 10,
   "metadata": {
    "collapsed": false
   },
   "outputs": [
    {
     "data": {
      "text/plain": [
       "2.8566367616512611"
      ]
     },
     "execution_count": 10,
     "metadata": {},
     "output_type": "execute_result"
    }
   ],
   "source": [
    "np.mean(est_CVs)"
   ]
  },
  {
   "cell_type": "code",
   "execution_count": 11,
   "metadata": {
    "collapsed": false
   },
   "outputs": [
    {
     "data": {
      "text/plain": [
       "0.079899928747534377"
      ]
     },
     "execution_count": 11,
     "metadata": {},
     "output_type": "execute_result"
    }
   ],
   "source": [
    "np.std(est_CVs)/np.sqrt(corBlocks)"
   ]
  },
  {
   "cell_type": "code",
   "execution_count": 12,
   "metadata": {
    "collapsed": false
   },
   "outputs": [],
   "source": [
    "est_CV_means = np.zeros((len(Ts), len(rhos), len(simJobs)))\n",
    "est_CV_stds = np.zeros((len(Ts), len(rhos), len(simJobs)))\n",
    "\n",
    "corTime = 5.0\n",
    "\n",
    "for i in range(0, len(Ts)):\n",
    "    for j in range(0, len(rhos)):\n",
    "        for k in range(0, len(simJobs)):\n",
    "            with load_simulation_data(6, Ts[i], rhos[j], simJobs[k]) as data:\n",
    "                corSteps = int(corTime/data[\"h\"])\n",
    "                corBlocks = int(len(data[\"kinetic_energy\"]) / corSteps)\n",
    "                est_CVs = np.zeros((corBlocks))\n",
    "                for l in range(0, corBlocks):\n",
    "                    est_CVs[l] = calc_cv(data[\"kinetic_energy\"][l*corSteps:(l+1)*corSteps], data[\"n\"])\n",
    "                    \n",
    "                est_CV_means[i,j,k] = np.mean(est_CVs)\n",
    "                est_CV_stds[i,j,k] = np.std(est_CVs) / np.sqrt(corBlocks)"
   ]
  },
  {
   "cell_type": "code",
   "execution_count": 13,
   "metadata": {
    "collapsed": false
   },
   "outputs": [
    {
     "data": {
      "image/png": "[encoded data removed]",
      "text/plain": [
       "<matplotlib.figure.Figure at 0x10e2cee10>"
      ]
     },
     "metadata": {},
     "output_type": "display_data"
    },
    {
     "data": {
      "image/png": "[encoded data removed]",
      "text/plain": [
       "<matplotlib.figure.Figure at 0x10eb3a358>"
      ]
     },
     "metadata": {},
     "output_type": "display_data"
    }
   ],
   "source": [
    "invMaskCV = est_CV_stds > 0.3\n",
    "masked_cv = np.ma.masked_where(invMaskCV, est_CV_means)\n",
    "masked_cv_std = np.ma.masked_where(invMaskCV, est_CV_stds)\n",
    "\n",
    "plt.pcolor(rhos, Ts[1:], masked_cv[1:,:,0], vmin=0.0, vmax=3.5)\n",
    "cbar = plt.colorbar(label=\"specific heat capacity $c_V$ ($k_B$)\")\n",
    "cbar.set_ticks(np.linspace(0,3.5,8))\n",
    "plt.xlabel(r\"density $\\rho$ ($\\sigma^{-3}$)\")\n",
    "plt.ylabel(r\"temperature $T$ ($\\epsilon / k_B$)\")\n",
    "plt.savefig(\"longrun/cv-colorplot.png\", dpi=300)\n",
    "\n",
    "\n",
    "plt.figure()\n",
    "plt.pcolor(rhos, Ts[1:], masked_cv_std[1:,:,0], vmin=0.0, vmax=0.3)\n",
    "cbar = plt.colorbar(label=\"est. error in specific heat capacity $\\Delta c_V$ ($k_B$)\")\n",
    "cbar.set_ticks(np.linspace(0,0.3,7))\n",
    "plt.xlabel(r\"density $\\rho$ ($\\sigma^{-3}$)\")\n",
    "plt.ylabel(r\"temperature $T$ ($\\epsilon / k_B$)\")\n",
    "plt.savefig(\"longrun/cv-colorplot-stds.png\", dpi=300)"
   ]
  },
  {
   "cell_type": "code",
   "execution_count": 14,
   "metadata": {
    "collapsed": false
   },
   "outputs": [
    {
     "data": {
      "text/plain": [
       "0.22190242557399564"
      ]
     },
     "execution_count": 14,
     "metadata": {},
     "output_type": "execute_result"
    }
   ],
   "source": [
    "np.max(masked_cv_std)"
   ]
  },
  {
   "cell_type": "code",
   "execution_count": 15,
   "metadata": {
    "collapsed": true
   },
   "outputs": [],
   "source": [
    "def calc_press(temp, virial, n, rho):\n",
    "    T_block = np.mean(temp)\n",
    "    return (1 + 1/(3 * n * T_block) * np.mean(virial)) * rho * T_block"
   ]
  },
  {
   "cell_type": "code",
   "execution_count": 16,
   "metadata": {
    "collapsed": false
   },
   "outputs": [],
   "source": [
    "est_P_means = np.zeros((len(Ts), len(rhos), len(simJobs)))\n",
    "est_P_stds = np.zeros((len(Ts), len(rhos), len(simJobs)))\n",
    "\n",
    "corTime = 5.0\n",
    "\n",
    "for i in range(0, len(Ts)):\n",
    "    for j in range(0, len(rhos)):\n",
    "        for k in range(0, len(simJobs)):\n",
    "            with load_simulation_data(6, Ts[i], rhos[j], simJobs[k]) as data:\n",
    "                corSteps = int(corTime/data[\"h\"])\n",
    "                corBlocks = int(len(data[\"virial\"]) / corSteps)\n",
    "                est_P = np.zeros((corBlocks))\n",
    "                for l in range(0, corBlocks):\n",
    "                    est_P[l] = calc_press(data[\"temperature\"][l*corSteps:(l+1)*corSteps], data[\"virial\"][l*corSteps:(l+1)*corSteps], data[\"n\"], data[\"rho\"])\n",
    "                    \n",
    "                est_P_means[i,j,k] = np.mean(est_P)\n",
    "                est_P_stds[i,j,k] = np.std(est_P) / np.sqrt(corBlocks)"
   ]
  },
  {
   "cell_type": "code",
   "execution_count": 17,
   "metadata": {
    "collapsed": false
   },
   "outputs": [
    {
     "name": "stderr",
     "output_type": "stream",
     "text": [
      "/Users/jesse/anaconda/lib/python3.5/site-packages/ipykernel/__main__.py:6: RuntimeWarning: invalid value encountered in log10\n"
     ]
    },
    {
     "data": {
      "image/png": "[encoded data removed]",
      "text/plain": [
       "<matplotlib.figure.Figure at 0x10e5c2a90>"
      ]
     },
     "metadata": {},
     "output_type": "display_data"
    },
    {
     "data": {
      "image/png": "[encoded data removed]",
      "text/plain": [
       "<matplotlib.figure.Figure at 0x110600438>"
      ]
     },
     "metadata": {},
     "output_type": "display_data"
    }
   ],
   "source": [
    "#invMaskCV = est_CV_stds > 0.3\n",
    "invMaskP = np.array(est_P_means < 0.0, dtype=bool) | np.array(est_P_stds / est_P_means > 0.1, dtype=bool)\n",
    "masked_P = np.ma.masked_where(invMaskP, est_P_means)\n",
    "masked_P_std = np.ma.masked_where(invMaskP, est_P_stds)\n",
    "\n",
    "plt.pcolor(rhos, Ts[1:], np.log10(masked_P[1:,:,0]))\n",
    "cbar = plt.colorbar(label=\"pressure $P$ ($\\epsilon / \\sigma^3$)\")\n",
    "tickrange = [0.01, 0.03, 0.1, 0.3, 1.0, 3.0, 10.0, 30.0, 100.0, 300.0, 1000.0]\n",
    "cbar.set_ticks(np.log10(tickrange))\n",
    "cbar.set_ticklabels(tickrange)\n",
    "plt.xlabel(r\"density $\\rho$ ($\\sigma^{-3}$)\")\n",
    "plt.ylabel(r\"temperature $T$ ($\\epsilon / k_B$)\")\n",
    "plt.savefig(\"longrun/pressure-colorplot.png\", dpi=300)\n",
    "\n",
    "\n",
    "plt.figure()\n",
    "plt.pcolor(rhos, Ts[1:], masked_P_std[1:,:,0], vmin=0.0, vmax=0.02)\n",
    "cbar = plt.colorbar(label=\"est. error in pressure $\\Delta P$ ($10^{-3} \\epsilon / \\sigma^3$)\")\n",
    "cbar.set_ticks(np.linspace(0,0.02,5))\n",
    "cbar.set_ticklabels(np.linspace(0,0.02,5)*1000)\n",
    "plt.xlabel(r\"density $\\rho$ ($\\sigma^{-3}$)\")\n",
    "plt.ylabel(r\"temperature $T$ ($\\epsilon / k_B$)\")\n",
    "plt.savefig(\"longrun/pressure-colorplot-stds.png\", dpi=300)"
   ]
  },
  {
   "cell_type": "code",
   "execution_count": 18,
   "metadata": {
    "collapsed": false
   },
   "outputs": [],
   "source": [
    "a = np.ma.masked_array([1.0, -1.0], [False, True])"
   ]
  },
  {
   "cell_type": "code",
   "execution_count": 19,
   "metadata": {
    "collapsed": false
   },
   "outputs": [
    {
     "data": {
      "text/plain": [
       "masked_array(data = [1.0 --],\n",
       "             mask = [False  True],\n",
       "       fill_value = 1e+20)"
      ]
     },
     "execution_count": 19,
     "metadata": {},
     "output_type": "execute_result"
    }
   ],
   "source": [
    "a"
   ]
  },
  {
   "cell_type": "code",
   "execution_count": 20,
   "metadata": {
    "collapsed": false
   },
   "outputs": [
    {
     "name": "stderr",
     "output_type": "stream",
     "text": [
      "/Users/jesse/anaconda/lib/python3.5/site-packages/ipykernel/__main__.py:1: RuntimeWarning: invalid value encountered in log10\n",
      "  if __name__ == '__main__':\n"
     ]
    },
    {
     "data": {
      "text/plain": [
       "masked_array(data = [0.0 --],\n",
       "             mask = [False  True],\n",
       "       fill_value = 1e+20)"
      ]
     },
     "execution_count": 20,
     "metadata": {},
     "output_type": "execute_result"
    }
   ],
   "source": [
    "np.log10(a)"
   ]
  },
  {
   "cell_type": "code",
   "execution_count": null,
   "metadata": {
    "collapsed": true
   },
   "outputs": [],
   "source": []
  }
 ],
 "metadata": {
  "kernelspec": {
   "display_name": "Python 3",
   "language": "python",
   "name": "python3"
  },
  "language_info": {
   "codemirror_mode": {
    "name": "ipython",
    "version": 3
   },
   "file_extension": ".py",
   "mimetype": "text/x-python",
   "name": "python",
   "nbconvert_exporter": "python",
   "pygments_lexer": "ipython3",
   "version": "3.5.1"
  }
 },
 "nbformat": 4,
 "nbformat_minor": 0
}
