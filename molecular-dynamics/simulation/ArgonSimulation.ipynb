{
 "cells": [
  {
   "cell_type": "markdown",
   "metadata": {},
   "source": [
    "# Molecular dynamics simulation of argon atoms\n",
    "\n",
    "This notebook contains python code to simulate the molecular dynamics of a collection of argon atoms. From the microscopic simulation results, a few macroscopic quantities will be calculated\n",
    "\n",
    "Let's start by importing everything we need"
   ]
  },
  {
   "cell_type": "code",
   "execution_count": 1,
   "metadata": {
    "collapsed": false
   },
   "outputs": [],
   "source": [
    "%matplotlib inline\n",
    "\n",
    "import numpy as np\n",
    "from numba import jit\n",
    "import matplotlib.pyplot as plt\n",
    "from mpl_toolkits.mplot3d import Axes3D\n",
    "import time\n",
    "import sys\n",
    "from IPython import display\n",
    "\n",
    "def print_fl(output):\n",
    "    print(output)\n",
    "    sys.stdout.flush()"
   ]
  },
  {
   "cell_type": "markdown",
   "metadata": {},
   "source": [
    "## System parameters \n",
    "\n",
    "In the following block, all relevant system parameters are set."
   ]
  },
  {
   "cell_type": "code",
   "execution_count": 2,
   "metadata": {
    "collapsed": false
   },
   "outputs": [],
   "source": [
    "## simulation parameters\n",
    "simulationTime = 40.0 # total simulation time\n",
    "h = 0.004 # time step\n",
    "numSteps = int(simulationTime/h) # number of simulation steps\n",
    "numFrames = 50 # number of frames of the molecular configuration to be shown during simulation\n",
    "reportFreq = 0.01 # fraction of simulation progress that should be reported by a short text message\n",
    "\n",
    "rescalingPeriod = 100 # number of time steps between each velocity rescaling to reach the desired temperature\n",
    "equilibrationTime = 20.0 # time until we consider the system to be in equilibrium\n",
    "equilibriumStart = int(equilibrationTime/h) # time step from which we consider the system to be in equilibrium\n",
    "\n",
    "## system parameters\n",
    "M = 4 # number of unit cells to initialize atoms in\n",
    "n = 4*M**3 # total number of atoms to be simulated\n",
    "desiredT = 0.827 # temperature the system should be equilibrated towards\n",
    "sigma_v = np.sqrt(desiredT) # spread of the initial velocities\n",
    "rho = 1.06 # density of the system\n",
    "L = np.power(n/rho, 1/3) # linear size of the (cubic) system\n",
    "\n",
    "## output data\n",
    "t = 0 # initialize simulation time to zero\n",
    "v = np.zeros((numSteps,n,3)) # matrix to hold the 3 velocity components per atom at every time step\n",
    "r = np.zeros((numSteps,n,3)) # matrix to hold the 3 spatial coordinates per atom at every time step\n",
    "v_hat = np.zeros((numSteps,n,3)) # matrix to hold intermediate velocities during simulation (specific to the Verlet algorithm)\n",
    "\n",
    "dist = np.zeros((numSteps,n,n)) # matrix to hold the distances between all atoms at every time step\n",
    "F = np.zeros((numSteps,n,3)) # matrix to hold the forces between all atoms at every time step\n",
    "\n",
    "# keep track of a distance histogram to calculate the correlation function from\n",
    "distHistBins = 200\n",
    "distHistBinSize = np.sqrt(3)*L/(2*distHistBins)\n",
    "distHist = np.zeros((numSteps, distHistBins))\n",
    "\n",
    "# matrices to hold potential and kinetic energies at every time step\n",
    "U = np.zeros((numSteps))\n",
    "K = np.zeros((numSteps))\n",
    "# matrix to hold the value of the virial coefficient at every time step\n",
    "virial = np.zeros((numSteps))\n",
    "\n"
   ]
  },
  {
   "cell_type": "markdown",
   "metadata": {},
   "source": [
    "## Initialisation functions\n",
    "\n",
    "This is where we define the initial configuration of the sytem. The initialise function puts all the atoms in an fcc Bravais lattice, the minimum potential energy configuration for the Lennard-Jones potential (provided the unit cell spacing coincides with the minimum in the LJ pair potential). Velocity components are distributed randomly according to a Gaussian distribution.\n",
    "\n",
    "The initialise_simple function puts only two atoms in the system which is very useful for debugging purposes."
   ]
  },
  {
   "cell_type": "code",
   "execution_count": 3,
   "metadata": {
    "collapsed": false
   },
   "outputs": [],
   "source": [
    "def initialise(set_v = True):\n",
    "    global simulationTime, h, numSteps, t, M, n, v, r, v_hat, m, beta, sigma_v, F, L, dist, rho\n",
    "    t = 0\n",
    "    i = 0\n",
    "    for mx in range(0, M):\n",
    "        for my in range(0, M):\n",
    "            for mz in range(0, M):\n",
    "                r[t,i,0] = L*mx/M; r[t,i,1] = L*my/M; r[t,i,2] = L*mz/M\n",
    "                i += 1\n",
    "                r[t,i,0] = L*(mx+0.5)/M; r[t,i,1] = L*(my+0.5)/M; r[t,i,2] = L*mz/M\n",
    "                i += 1\n",
    "                r[t,i,0] = L*(mx+0.5)/M; r[t,i,1] = L*my/M; r[t,i,2] = L*(mz+0.5)/M\n",
    "                i += 1\n",
    "                r[t,i,0] = L*mx/M; r[t,i,1] = L*(my+0.5)/M; r[t,i,2] = L*(mz+0.5)/M\n",
    "                i += 1\n",
    "    if set_v:\n",
    "        v[t,:,:] = np.random.normal(0.0, sigma_v, size=(n,3))\n",
    "        v[t,:,:] = (v[t,:,:] - np.mean(v[t,:,:], axis=0)) / np.std(v[t,:,:]) * sigma_v\n",
    "    else:\n",
    "        v[t,:,:] = 0.0\n",
    "    K[t] = 0.5*np.sum(v[t,:,:]*v[t,:,:])\n",
    "\n",
    "\n",
    "def initialise_simple():\n",
    "    global simulationTime, h, numSteps, t, M, n, v, r, v_hat, m, beta, sigma_v, F, L, dist, rho\n",
    "    \n",
    "    M = 3\n",
    "    n = 2\n",
    "    \n",
    "    v = np.zeros((numSteps,n,3))\n",
    "    r = np.zeros((numSteps,n,3))\n",
    "    v_hat = np.zeros((numSteps,n,3))\n",
    "    \n",
    "    L = 3\n",
    "\n",
    "    dist = np.zeros((numSteps,n,n))\n",
    "    F = np.zeros((numSteps,n,3))\n",
    "    \n",
    "    v[t,:,:] = 0.0\n",
    "    r[t,0,:] = [L-0.55*np.power(2.0,1.0/6.0), L/2, L/2]\n",
    "    r[t,1,:] = [0.55*np.power(2.0,1.0/6.0), L/2, L/2]\n",
    "\n"
   ]
  },
  {
   "cell_type": "markdown",
   "metadata": {},
   "source": [
    "## Simulation algorithm\n",
    "\n",
    "In the functions below is where the real work happens. The update_coordinates function updates the positions and the velocities of the atoms using the Verlet algorithm. Forces (and other useful quantities) are calculated using the calculate_quantities_jit function, which is fed into the numba JIT compiler for maximum efficiency. In this function, array calculations are actually unwound and written explicitly as it turns out that this was faster after JIT compilation than numpy array operations. This jitted function is wrapped inside a normal function in order to access the global variables we use to save our experimental results"
   ]
  },
  {
   "cell_type": "code",
   "execution_count": 4,
   "metadata": {
    "collapsed": true
   },
   "outputs": [],
   "source": [
    "def update_coordinates():\n",
    "    global simulationTime, h, numSteps, t, M, n, v, r, v_hat, m, beta, sigma_v, F, L, dist, rho\n",
    "    global distHist, distHistBins, distHistBinSize\n",
    "    v_hat[t,:,:] = v[t,:,:] + h * F[t,:,:]/2\n",
    "    r[t + 1,:,:] = (r[t,:,:] + h * v_hat[t,:,:]) % L\n",
    "    \n",
    "    # calculate all the relevant quantities for the simulation\n",
    "    t += 1\n",
    "    calculate_quantities()\n",
    "    \n",
    "    v[t,:,:] = v_hat[t-1,:,:] + h*F[t,:,:] / 2\n",
    "    K[t] = 0.5*np.sum(v[t,:,:]*v[t,:,:])\n",
    "\n",
    "# note that global variables in jitted functions are frozen at compile-time,\n",
    "# so it is better to pass in all the system parameters every time\n",
    "@jit(nopython=True)\n",
    "def calculate_quantities_jit(rIn, LIn, distHistBinsIn, distHistBinSizeIn):\n",
    "    nIn = rIn.shape[0]\n",
    "    distOut = np.zeros((nIn, nIn))\n",
    "    FOut = np.zeros((nIn, 3))\n",
    "    distHistOut = np.zeros((distHistBinsIn))\n",
    "    UOut = 0.0\n",
    "    virialOut = 0.0\n",
    "    epsilon = 1e-12 # fail safe in case distances between atoms become zero\n",
    "    # loop through all of the atom pairs once\n",
    "    for i in range(0,nIn):\n",
    "        for j in range(0,i):\n",
    "            # calculate distance\n",
    "            dx = rIn[i,0] - rIn[j,0]\n",
    "            dx -= np.around(dx/LIn) * LIn\n",
    "            \n",
    "            dy = rIn[i,1] - rIn[j,1]\n",
    "            dy -= np.around(dy/LIn) * LIn\n",
    "            \n",
    "            dz = rIn[i,2] - rIn[j,2]\n",
    "            dz -= np.around(dz/LIn) * LIn\n",
    "            \n",
    "            dr = np.sqrt(dx*dx + dy*dy + dz*dz)\n",
    "            if dr == 0.0:\n",
    "                # use failsafe small value for r in case the distance is zero\n",
    "                # to prevent division by zero in the force calculation\n",
    "                # note that the simulation will fail anyway probably as this\n",
    "                # will introduce a huge potential energy but just in case\n",
    "                dr = epsilon\n",
    "            distOut[i,j] = distOut[j,i] = dr\n",
    "            \n",
    "            # put distance in distance histogram\n",
    "            distHistOut[int(dr/distHistBinSizeIn)] += 1\n",
    "            \n",
    "            # calculate potential, force and virial, using the following intermediate result\n",
    "            # for computational efficiency (2x speed-up)\n",
    "            dr_6 = dr**6            \n",
    "            UOut += 4.0*(1/(dr_6*dr_6) - 1/dr_6) \n",
    "            # note that fLJ is actually the force divided by dr (to facilitate the calculation of the force components)\n",
    "            fLJ = (48.0/(dr_6*dr_6*dr*dr) - 24.0/(dr_6*dr*dr))\n",
    "            virialOut += dr*dr*fLJ\n",
    "            \n",
    "            FOut[i,0] += dx * fLJ\n",
    "            FOut[i,1] += dy * fLJ\n",
    "            FOut[i,2] += dz * fLJ\n",
    "            \n",
    "            FOut[j,0] += -dx * fLJ\n",
    "            FOut[j,1] += -dy * fLJ\n",
    "            FOut[j,2] += -dz * fLJ\n",
    "    # return all the wonderfull things we've calculated\n",
    "    return distOut, FOut, distHistOut, UOut, virialOut\n",
    "\n",
    "def calculate_quantities():\n",
    "    # we can't use globals inside a jitted function, so we provide this little wrapper function\n",
    "    global simulationTime, h, numSteps, t, M, n, v, r, v_hat, m, beta, sigma_v, F, L, dist, rho\n",
    "    global distHist, distHistBins, distHistBinSize\n",
    "    dist[t,:,:], F[t,:,:], distHist[t,:], U[t], virial[t] = calculate_quantities_jit(r[t,:,:], L, distHistBins, distHistBinSize)"
   ]
  },
  {
   "cell_type": "markdown",
   "metadata": {},
   "source": [
    "## Temperature rescaling\n",
    "\n",
    "In order to attain the desired temperature, the kinetic energy (which is related to the temperature) may be rescaled using the following function. This function is called a few times inside the simulation loop during equilibration"
   ]
  },
  {
   "cell_type": "code",
   "execution_count": 5,
   "metadata": {
    "collapsed": false
   },
   "outputs": [],
   "source": [
    "def scale_to_temperature():\n",
    "    global n, v, desiredT, rescalingPeriod\n",
    "    # average the velocities over the second half of the last rescaling period\n",
    "    halfRP = int(rescalingPeriod/2)\n",
    "    lbda = np.sqrt((n - 1)*3*desiredT*halfRP/(2*np.sum(K[t-halfRP:t])))\n",
    "    \n",
    "    v[t,:,:] *= lbda"
   ]
  },
  {
   "cell_type": "markdown",
   "metadata": {},
   "source": [
    "## Simulation loop\n",
    "\n",
    "All the pieces are tied together in the following simulation loop. Functions for visualizing the intermediate results are also provided"
   ]
  },
  {
   "cell_type": "code",
   "execution_count": 6,
   "metadata": {
    "collapsed": false
   },
   "outputs": [],
   "source": [
    "def do_simulation():\n",
    "    global simulationTime, h, numSteps, t, M, n, v, r, v_hat, m, beta, sigma_v, F, L, dist, rho  \n",
    "    global rescalingPeriod, equilibrationTime\n",
    "    global numFrames\n",
    "    start_visualisation()\n",
    "    \n",
    "    initialise()\n",
    "    calculate_quantities()\n",
    "    while(t < numSteps - 1):\n",
    "        if (t*h < equilibrationTime and t > 0 and t % rescalingPeriod == 0):\n",
    "            scale_to_temperature()\n",
    "        if (t % int(numSteps*reportFreq) == 0):\n",
    "            print_fl(\"Simulation progress: \" + str(int(t*100/numSteps)) + \"%\")\n",
    "        if (t % int(numSteps/numFrames) == 0):\n",
    "            visualize()   \n",
    "        update_coordinates()\n",
    "    end_visualisation()\n",
    "    print_fl(\"Simulation finished\")\n",
    "\n",
    "fig = None\n",
    "ax = None\n",
    "\n",
    "def start_visualisation():\n",
    "    global simulationTime, h, numSteps, t, M, n, v, r, v_hat, m, beta, sigma_v, F, L, dist, rho\n",
    "    global fig, ax\n",
    "    %matplotlib inline\n",
    "    fig = plt.figure()\n",
    "    ax = fig.add_subplot(111, projection='3d')\n",
    "    \n",
    "def end_visualisation():\n",
    "    display.clear_output()\n",
    "\n",
    "def visualize():\n",
    "    global simulationTime, h, numSteps, t, M, n, v, r, v_hat, m, beta, sigma_v, F, L, dist, rho\n",
    "    global fig, ax\n",
    "    ax.cla()\n",
    "    ax.scatter(r[t,:,0], r[t,:,1], r[t,:,2])\n",
    "    ax.set_xlim((0.0, L))\n",
    "    ax.set_ylim((0.0, L))\n",
    "    ax.set_zlim((0.0, L))\n",
    "    display.clear_output(wait=True)\n",
    "    display.display(fig)\n",
    "    #time.sleep(0.05)"
   ]
  },
  {
   "cell_type": "markdown",
   "metadata": {
    "collapsed": false
   },
   "source": [
    "## Speed test\n",
    "\n",
    "In order to investigate the feasibility of the simulation, the main component of the simulation loop (calculating the forces and other quantities and executing the Verlet algorithm) is timed in the following section. "
   ]
  },
  {
   "cell_type": "code",
   "execution_count": 7,
   "metadata": {
    "collapsed": false
   },
   "outputs": [
    {
     "name": "stdout",
     "output_type": "stream",
     "text": [
      "1000 loops, best of 3: 1.18 ms per loop\n"
     ]
    }
   ],
   "source": [
    "initialise()\n",
    "\n",
    "def test_update_coordinates():\n",
    "    global t\n",
    "    t = 0\n",
    "    update_coordinates()\n",
    "    t = 0\n",
    "calculate_quantities()\n",
    "test_update_coordinates()\n",
    "\n",
    "%timeit test_update_coordinates()"
   ]
  },
  {
   "cell_type": "markdown",
   "metadata": {},
   "source": [
    "## Running the simulation\n",
    "\n",
    "Now we've provided all the different parts, it is time to run the simulation!"
   ]
  },
  {
   "cell_type": "code",
   "execution_count": 8,
   "metadata": {
    "collapsed": false
   },
   "outputs": [
    {
     "name": "stdout",
     "output_type": "stream",
     "text": [
      "Simulation finished\n"
     ]
    },
    {
     "data": {
      "image/png": "[encoded data removed]",
      "text/plain": [
       "<matplotlib.figure.Figure at 0x109f6e240>"
      ]
     },
     "metadata": {},
     "output_type": "display_data"
    }
   ],
   "source": [
    "do_simulation()"
   ]
  },
  {
   "cell_type": "markdown",
   "metadata": {},
   "source": [
    "## Simulation results\n",
    "\n",
    "After simulating, we may calculate and plot a few interesting physical quantities. The results are presented in the following section"
   ]
  },
  {
   "cell_type": "markdown",
   "metadata": {},
   "source": [
    "### Energies\n",
    "\n",
    "Below we plot the development of the potential and kinetic energy, as well as their sum, during the simulation. Note that in the equilibration phase conservation of energy is violated by the temperature rescalings. After the rescalings stop we do observe that the total energy remains constant."
   ]
  },
  {
   "cell_type": "code",
   "execution_count": 9,
   "metadata": {
    "collapsed": false
   },
   "outputs": [
    {
     "name": "stdout",
     "output_type": "stream",
     "text": [
      "Initial K: 316.9999409\n",
      "Initial U: -2148.87678983\n",
      "Initial H: -1831.87684893\n",
      "\n",
      "Average K: 317.135234417\n",
      "Average U: -1859.15830246\n",
      "Average H: -1542.02306804\n",
      "Average T: 0.825873006294\n"
     ]
    },
    {
     "data": {
      "text/plain": [
       "[<matplotlib.lines.Line2D at 0x254c626a0>]"
      ]
     },
     "execution_count": 9,
     "metadata": {},
     "output_type": "execute_result"
    },
    {
     "data": {
      "image/png": "[encoded data removed]",
      "text/plain": [
       "<matplotlib.figure.Figure at 0x255147710>"
      ]
     },
     "metadata": {},
     "output_type": "display_data"
    }
   ],
   "source": [
    "H = K + U\n",
    "T = 2*K/(3*n)\n",
    "\n",
    "print(\"Initial K: \" + str(K[0]))\n",
    "print(\"Initial U: \" + str(U[0]))\n",
    "print(\"Initial H: \" + str(H[0]))\n",
    "print(\"\")\n",
    "print(\"Average K: \" + str(np.mean(K[-int(len(K)/2):])))\n",
    "print(\"Average U: \" + str(np.mean(U[-int(len(K)/2):])))\n",
    "print(\"Average H: \" + str(np.mean(H[-int(len(K)/2):])))\n",
    "\n",
    "print(\"Average T: \" + str(np.mean(T[-int(len(K)/2):])))\n",
    "\n",
    "plt.plot(K)\n",
    "plt.plot(U)\n",
    "plt.plot(H)"
   ]
  },
  {
   "cell_type": "markdown",
   "metadata": {},
   "source": [
    "### Energy conservation\n",
    "\n",
    "To investigate the conservation of energy in more detail, we plot the deviations in H. We see that after the equilbration phase the energy remains conserved indeed, up to some numerical errors."
   ]
  },
  {
   "cell_type": "code",
   "execution_count": 10,
   "metadata": {
    "collapsed": false
   },
   "outputs": [
    {
     "data": {
      "text/plain": [
       "[<matplotlib.lines.Line2D at 0x2551b2c88>]"
      ]
     },
     "execution_count": 10,
     "metadata": {},
     "output_type": "execute_result"
    },
    {
     "data": {
      "image/png": "[encoded data removed]",
      "text/plain": [
       "<matplotlib.figure.Figure at 0x254f13cf8>"
      ]
     },
     "metadata": {},
     "output_type": "display_data"
    }
   ],
   "source": [
    "plt.plot(H - np.mean(H))"
   ]
  },
  {
   "cell_type": "markdown",
   "metadata": {},
   "source": [
    "### Correlation function\n",
    "\n",
    "From the distance histogram that has been saved during simulation, we may calculate the correlation function. The results are shown in the section below"
   ]
  },
  {
   "cell_type": "code",
   "execution_count": 11,
   "metadata": {
    "collapsed": false
   },
   "outputs": [
    {
     "data": {
      "text/plain": [
       "[<matplotlib.lines.Line2D at 0x254cb8ac8>]"
      ]
     },
     "execution_count": 11,
     "metadata": {},
     "output_type": "execute_result"
    },
    {
     "data": {
      "image/png": "[encoded data removed]",
      "text/plain": [
       "<matplotlib.figure.Figure at 0x254fe2e10>"
      ]
     },
     "metadata": {},
     "output_type": "display_data"
    }
   ],
   "source": [
    "# determine the correlation function from the distance histogram\n",
    "r_g = np.linspace(0.5*distHistBinSize, (distHistBins-0.5)*distHistBinSize, distHistBins)\n",
    "g = np.mean(distHist[equilibriumStart:,:], axis=0)/(4*np.pi*distHistBinSize*r_g**2)*2*L**3/(n*(n-1))\n",
    "\n",
    "plt.plot(r_g, g)"
   ]
  },
  {
   "cell_type": "markdown",
   "metadata": {},
   "source": [
    "### Specific heat\n",
    "\n",
    "Using Lebowitz' formula, we may calculate the specific heat from the fluctuations in the kinetic energy. This is performed in the following block of code"
   ]
  },
  {
   "cell_type": "code",
   "execution_count": 12,
   "metadata": {
    "collapsed": false
   },
   "outputs": [
    {
     "name": "stdout",
     "output_type": "stream",
     "text": [
      "Specific heat: 674.85264004\n"
     ]
    }
   ],
   "source": [
    "C_v = (3.0/2.0)*n/(1-((3.0/2.0)*n)*(np.var(K[equilibriumStart:])/np.mean(K[equilibriumStart:])**2))\n",
    "\n",
    "print(\"Specific heat: \" + str(C_v))"
   ]
  },
  {
   "cell_type": "markdown",
   "metadata": {},
   "source": [
    "### Pressure\n",
    "\n",
    "The pressure can be calculated from the virial theorem. The result is determined below."
   ]
  },
  {
   "cell_type": "code",
   "execution_count": 13,
   "metadata": {
    "collapsed": false
   },
   "outputs": [
    {
     "name": "stdout",
     "output_type": "stream",
     "text": [
      "Pressure: -3.51161712893\n"
     ]
    }
   ],
   "source": [
    "P = 1 - 1/(3*n) * np.mean(virial[equilibriumStart:])\n",
    "\n",
    "print(\"Pressure: \" + str(P))"
   ]
  }
 ],
 "metadata": {
  "kernelspec": {
   "display_name": "Python 3",
   "language": "python",
   "name": "python3"
  },
  "language_info": {
   "codemirror_mode": {
    "name": "ipython",
    "version": 3
   },
   "file_extension": ".py",
   "mimetype": "text/x-python",
   "name": "python",
   "nbconvert_exporter": "python",
   "pygments_lexer": "ipython3",
   "version": "3.5.1"
  }
 },
 "nbformat": 4,
 "nbformat_minor": 0
}
