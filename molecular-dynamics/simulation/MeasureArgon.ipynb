{
 "cells": [
  {
   "cell_type": "code",
   "execution_count": 1,
   "metadata": {
    "collapsed": false
   },
   "outputs": [],
   "source": [
    "%matplotlib inline\n",
    "from ArgonSimulation import ArgonSimulation\n",
    "import numpy as np\n",
    "import matplotlib.pyplot as plt\n",
    "\n",
    "sim = ArgonSimulation()\n",
    "\n",
    "\n"
   ]
  },
  {
   "cell_type": "code",
   "execution_count": 2,
   "metadata": {
    "collapsed": false
   },
   "outputs": [],
   "source": [
    "Ms = [6]\n",
    "Ts = np.linspace(0.0, 4.0, 17)\n",
    "rhos = np.concatenate((np.array([0.02, 0.05]), np.linspace(0.1, 2.0, 20)))\n",
    "tries = [1]"
   ]
  },
  {
   "cell_type": "code",
   "execution_count": 3,
   "metadata": {
    "collapsed": false
   },
   "outputs": [
    {
     "name": "stdout",
     "output_type": "stream",
     "text": [
      "1000 loops, best of 3: 228 µs per loop\n"
     ]
    }
   ],
   "source": [
    "sim.simulationTime = 60.0\n",
    "sim.initialise_arrays(3.0, 0.03, 3)\n",
    "sim.initialise_simulation()\n",
    "sim.test_update_coordinates()\n",
    "\n",
    "%timeit sim.test_update_coordinates()"
   ]
  },
  {
   "cell_type": "code",
   "execution_count": 4,
   "metadata": {
    "collapsed": false
   },
   "outputs": [
    {
     "name": "stdout",
     "output_type": "stream",
     "text": [
      "Simulation progress: 0%\n",
      "Simulation progress: 5%\n",
      "Simulation progress: 10%\n",
      "Simulation progress: 15%\n",
      "Simulation progress: 20%\n",
      "Simulation progress: 25%\n",
      "Simulation progress: 30%\n",
      "Simulation progress: 35%\n",
      "Simulation progress: 40%\n",
      "Simulation progress: 45%\n",
      "Simulation progress: 50%\n",
      "Simulation progress: 55%\n",
      "Simulation progress: 60%\n",
      "Simulation progress: 65%\n",
      "Simulation progress: 70%\n",
      "Simulation progress: 75%\n",
      "Simulation progress: 80%\n",
      "Simulation progress: 85%\n",
      "Simulation progress: 90%\n",
      "Simulation progress: 95%\n",
      "Simulation finished\n"
     ]
    },
    {
     "data": {
      "text/plain": [
       "[<matplotlib.lines.Line2D at 0x10e25d2e8>]"
      ]
     },
     "execution_count": 4,
     "metadata": {},
     "output_type": "execute_result"
    },
    {
     "data": {
      "image/png": "[encoded data removed]",
      "text/plain": [
       "<matplotlib.figure.Figure at 0x10bec75c0>"
      ]
     },
     "metadata": {},
     "output_type": "display_data"
    }
   ],
   "source": [
    "sim.do_simulation()\n",
    "\n",
    "autocorr = sim.result_autocorrelation()\n",
    "\n",
    "plt.plot(autocorr)"
   ]
  },
  {
   "cell_type": "code",
   "execution_count": 5,
   "metadata": {
    "collapsed": false
   },
   "outputs": [
    {
     "data": {
      "text/plain": [
       "[<matplotlib.lines.Line2D at 0x10e2c2668>]"
      ]
     },
     "execution_count": 5,
     "metadata": {},
     "output_type": "execute_result"
    },
    {
     "data": {
      "image/png": "[encoded data removed]",
      "text/plain": [
       "<matplotlib.figure.Figure at 0x10e283e48>"
      ]
     },
     "metadata": {},
     "output_type": "display_data"
    }
   ],
   "source": [
    "plt.plot(sim.result_diffusion_distance())"
   ]
  },
  {
   "cell_type": "code",
   "execution_count": 6,
   "metadata": {
    "collapsed": false
   },
   "outputs": [
    {
     "data": {
      "text/plain": [
       "array([[  0.16026465,   8.36575128,   4.09275909],\n",
       "       [  2.17455133,  10.41065789,   4.32763767],\n",
       "       [  3.29893241,   9.78042639,   1.03245186],\n",
       "       [  1.54993799,   8.966678  ,  10.7122335 ],\n",
       "       [ 11.22857488,   4.85357888,   4.44701052],\n",
       "       [  8.65805775,  11.80252503,   5.07994824],\n",
       "       [ 11.76487038,  11.72497788,   2.59692345],\n",
       "       [ 15.08736233,   3.16713058,   2.42925755],\n",
       "       [  9.35247363,  11.45236754,   7.70619693],\n",
       "       [  3.4344704 ,  13.81458894,  13.71231135],\n",
       "       [  8.34654768,   1.4873822 ,   8.82833538],\n",
       "       [  5.32220082,  12.65255553,  12.90121339],\n",
       "       [ 14.05736921,  15.08869856,   8.33289895],\n",
       "       [  7.92582416,  13.89714114,  12.22353789],\n",
       "       [  3.64137334,  12.07669823,  12.90040492],\n",
       "       [  7.43911147,  12.4974943 ,   0.48469118],\n",
       "       [  2.62893184,   2.57897807,  15.12320913],\n",
       "       [ 13.22246117,   1.71723376,   9.25750584],\n",
       "       [  6.14678259,   0.94552172,  13.54306653],\n",
       "       [ 12.29679149,  10.02519156,  10.8322927 ],\n",
       "       [ 14.93009288,  14.96654731,   1.99236742],\n",
       "       [  5.31319944,   6.06555223,   7.99406903],\n",
       "       [  6.96034595,   6.93628674,   4.70396163],\n",
       "       [  3.71043552,  13.51824037,   4.34510921],\n",
       "       [  0.0590022 ,   5.22055818,   1.71034955],\n",
       "       [ 10.13210247,  12.11566984,  10.37766082],\n",
       "       [  8.29169157,  13.15076942,  11.20351485],\n",
       "       [ 15.03676562,  15.30032914,  11.62434087],\n",
       "       [  6.95406468,  12.25626004,  14.19766091],\n",
       "       [  2.77191686,  10.93320073,   6.92441075],\n",
       "       [  8.3060386 ,   8.13787887,   0.23255912],\n",
       "       [  9.87699506,   3.61957886,   7.819068  ],\n",
       "       [  3.23418881,   0.78357231,   5.10757607],\n",
       "       [  9.33367536,  11.60071095,  11.89672764],\n",
       "       [  7.89488197,   7.0846473 ,   3.95677041],\n",
       "       [  9.32071803,   7.35272313,   2.07980327],\n",
       "       [  1.64990924,  10.04782419,  13.61343774],\n",
       "       [  4.28518107,   0.33523181,  13.85462343],\n",
       "       [  6.36096124,  14.12074955,   0.96441526],\n",
       "       [  8.57197859,   8.86034445,  14.49190229],\n",
       "       [  8.42464495,  13.11848386,  12.79105111],\n",
       "       [ 11.35015485,   2.92657194,   0.69212655],\n",
       "       [ 14.87358088,  14.13501417,  10.24901335],\n",
       "       [  3.19404659,   8.8681787 ,   2.32334329],\n",
       "       [  6.479056  ,   0.72459183,  11.74718062],\n",
       "       [  3.45405968,   4.29347307,  14.60576978],\n",
       "       [  4.38638655,  13.84510317,   6.64307499],\n",
       "       [  1.95528119,   6.60409216,  10.68049724],\n",
       "       [  7.37867508,   4.00986236,   3.43123772],\n",
       "       [  6.89082804,  10.33199049,   0.69189856],\n",
       "       [ 12.20520001,  11.0758488 ,  14.60906705],\n",
       "       [  8.40979095,   6.84937559,   2.46116992],\n",
       "       [  0.95292665,   1.25234285,   1.38210064],\n",
       "       [  7.3620132 ,   1.29133944,   7.01274246],\n",
       "       [ 11.05632235,  10.1487935 ,   9.09989215],\n",
       "       [ 11.2983949 ,   1.41036247,  14.12240108],\n",
       "       [ 11.6472184 ,   5.97991049,  12.10674511],\n",
       "       [  8.45185165,  14.63385564,   4.6350007 ],\n",
       "       [  5.987425  ,   0.74181534,   1.87684231],\n",
       "       [  2.63087008,  14.83932563,   9.6727375 ],\n",
       "       [ 13.53214314,   0.94281805,   5.402246  ],\n",
       "       [  4.49230909,   3.21387864,   9.48927845],\n",
       "       [  8.78496337,  13.1639771 ,   6.18791073],\n",
       "       [ 10.79250907,  11.36942031,  13.28120753],\n",
       "       [ 14.81495652,  14.42667643,   3.76816751],\n",
       "       [ 14.53780019,  14.07126741,  11.38247484],\n",
       "       [  7.0078218 ,   5.84932743,   2.59822826],\n",
       "       [  0.69892521,   8.85887914,   1.47149404],\n",
       "       [  8.9574689 ,   2.67064367,   2.03863148],\n",
       "       [  3.59396728,   1.3308634 ,   4.2854967 ],\n",
       "       [  1.32842781,   7.69800966,   2.58450957],\n",
       "       [  6.53467482,  14.85134453,  15.32217854],\n",
       "       [  3.40888636,   5.45468383,   9.78958928],\n",
       "       [ 11.0596124 ,   2.79774719,   5.68198535],\n",
       "       [  6.3666111 ,   2.93294649,  12.09461805],\n",
       "       [  4.10644239,  12.96800619,   8.86307092],\n",
       "       [ 10.50060892,   6.30883432,   1.69738692],\n",
       "       [  2.75812006,   8.43928011,  15.23214823],\n",
       "       [  1.4744929 ,   5.37544048,   9.84142904],\n",
       "       [ 14.16949454,   9.11583298,   3.55966657],\n",
       "       [ 10.32015097,   1.11174352,   9.51980352],\n",
       "       [  9.12066915,   8.40550471,   1.27511316],\n",
       "       [  0.87241586,   4.12020076,   8.27745827],\n",
       "       [ 10.08583337,   8.5341543 ,   7.41620351],\n",
       "       [ 10.39818757,   1.71527096,   0.88687829],\n",
       "       [ 10.78371391,   4.72609662,   2.04444324],\n",
       "       [ 12.99702301,  13.78749428,   5.56238444],\n",
       "       [  9.3198024 ,   3.61200975,   4.14949554],\n",
       "       [  9.56274716,  13.05158295,   4.25641605],\n",
       "       [ 14.17018799,   8.09743419,  14.89538984],\n",
       "       [  7.32979051,   8.96165754,  15.13859455],\n",
       "       [  0.64231402,   4.87159151,   0.95070251],\n",
       "       [  6.03880621,  14.63626708,  10.50055293],\n",
       "       [ 14.30819336,   2.36278385,   1.44646416],\n",
       "       [ 14.7468865 ,   6.90904769,  13.97562378],\n",
       "       [ 15.09141185,  12.83048719,  12.38628047],\n",
       "       [  1.75105471,  11.45768669,   1.38535637],\n",
       "       [  6.36647733,   3.20132808,  13.09526723],\n",
       "       [ 14.71453873,   7.61888333,   0.75821863],\n",
       "       [ 13.80460318,   7.47904283,   1.17589636],\n",
       "       [  0.43805648,   1.29362104,   3.02188454],\n",
       "       [  5.8480705 ,   9.44493009,   5.27479647],\n",
       "       [  4.41352637,  10.65532972,   4.83899847],\n",
       "       [ 11.70723783,   9.67785773,   7.64354825],\n",
       "       [  2.85055842,   9.28743846,   4.68216203],\n",
       "       [ 11.253955  ,   3.86052108,  11.97723626],\n",
       "       [ 13.57412468,  12.16310662,  13.95533873],\n",
       "       [ 12.39004106,  11.08721856,  11.41147763]])"
      ]
     },
     "execution_count": 6,
     "metadata": {},
     "output_type": "execute_result"
    }
   ],
   "source": [
    "sim.rEquilibriumStart[0:5,:] \n",
    "sim.r"
   ]
  },
  {
   "cell_type": "code",
   "execution_count": null,
   "metadata": {
    "collapsed": false
   },
   "outputs": [],
   "source": [
    "for M in Ms:\n",
    "    for T in Ts:\n",
    "        for rho in rhos:\n",
    "            for tr in tries:\n",
    "                print(\"Starting simulation with parameters (try \" + str(tr) + \"): \")\n",
    "                print(\"M:   \" + str(M))\n",
    "                print(\"T:   \" + str(T))\n",
    "                print(\"rho: \" + str(rho))\n",
    "                filename = \"results/argon-M-%.2f-T-%.2f-rho-%.2f-try-%d.npz\" % (M,T,rho,tr)\n",
    "                sim.initialise_arrays(T, rho, M)\n",
    "                sim.do_simulation()\n",
    "                sim.save_results(filename)"
   ]
  },
  {
   "cell_type": "code",
   "execution_count": null,
   "metadata": {
    "collapsed": false
   },
   "outputs": [],
   "source": [
    "6*3 % 4"
   ]
  },
  {
   "cell_type": "code",
   "execution_count": null,
   "metadata": {
    "collapsed": false
   },
   "outputs": [],
   "source": [
    "3%4"
   ]
  },
  {
   "cell_type": "code",
   "execution_count": null,
   "metadata": {
    "collapsed": false
   },
   "outputs": [],
   "source": [
    "6*3"
   ]
  },
  {
   "cell_type": "code",
   "execution_count": null,
   "metadata": {
    "collapsed": true
   },
   "outputs": [],
   "source": []
  }
 ],
 "metadata": {
  "kernelspec": {
   "display_name": "Python 3",
   "language": "python",
   "name": "python3"
  },
  "language_info": {
   "codemirror_mode": {
    "name": "ipython",
    "version": 3
   },
   "file_extension": ".py",
   "mimetype": "text/x-python",
   "name": "python",
   "nbconvert_exporter": "python",
   "pygments_lexer": "ipython3",
   "version": "3.5.1"
  }
 },
 "nbformat": 4,
 "nbformat_minor": 0
}
